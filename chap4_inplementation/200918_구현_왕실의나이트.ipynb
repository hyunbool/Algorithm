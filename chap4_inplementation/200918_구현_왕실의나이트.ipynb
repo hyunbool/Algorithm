{
 "cells": [
  {
   "cell_type": "markdown",
   "metadata": {},
   "source": [
    "# 2. 왕실의 나이트\n",
    "* 왕실 정원은 체스판과 같은 8 * 8 좌표 평면이다. 왕실 정원의 특정한 한 칸에 나이트가 서 있다. 나이트는 말을 타고 있기 때문에 이동을 할 때는 L자 형태로만 이동할 수 있으며, 정원 밖으로는 나갈 수 없다. 나이트는 특정한 위치에서 다음과 같은 2가지 경우로 이동할 수 있다.\n",
    "    * 수평으로 두 칸 이동한 뒤에 수직으로 한 칸 이동하기\n",
    "    * 수직으로 두 칸 이동한 뒤에 수평으로 한 칸 이동하기\n",
    "## Q. 이처럼 8 * 8 좌표 평면상에서 나이트의 위치가 주어졌을 때 나이트가 이동할 수 있는 경우의 수를 출력하는 프로그램을 작성하시오.\n",
    "* 이때 왕실의 정원에서 행 위치를 표현할 때는 1부터 8로 표현하며, 열 위치를 표현할 때는 a부터 h로 표현한다.\n",
    "    * ex) 나이트가 a1에 있을 때 이동할 수 있는 경우의 수는 다음 2가지 이다. a1의 위치는 좌표 평면에서 구석의 위치에 해당하며 나이트는 정원 밖으로는 나갈 수 없기 때문이다.\n",
    "        1) 오른쪽으로 두 칸 이동 후 아래로 한칸 이동(c2)\n",
    "        2) 아래로 두 칸 이동 후 오른쪽으로 한 칸 이동(b3)\n",
    "    * ex) c2에 위치해 있다면 나이트가 이동할 수 있는 경우의 수는 6가지\n",
    "### 입력 조건\n",
    "* 첫째 줄에 8 * 8 좌표 평면상에서 현재 나이트가 위치한 곳의 좌표를 나타내는 두 문자로 구성된 문자열이 입력된다. 입력 문자는 a1처럼 열과 행으로 이뤄진다.\n",
    "\n",
    "### 출력 조건\n",
    "* 첫째 줄에 나이트가 이동할 수 있는 경우의 수를 출력하시오.\n"
   ]
  },
  {
   "cell_type": "code",
   "execution_count": 22,
   "metadata": {},
   "outputs": [],
   "source": [
    "def q2():\n",
    "    cols = ['a', 'b', 'c', 'd', 'e', 'f', 'g', 'h']\n",
    "    move_1 = [1, 2, 2, 2, 2, 2, 2, 1]\n",
    "    move_2 = [1, 1, 2, 2, 2, 2, 1, 1]\n",
    "    \n",
    "    curloc = list(input())\n",
    "    result = 0\n",
    "    \n",
    "    colindex = cols.index(curloc[0])\n",
    "    rowindex = int(curloc[1]) - 1\n",
    "\n",
    "    result = (move_1[colindex] * move_2[rowindex]) + (move_2[colindex] * move_1[rowindex])\n",
    "    \n",
    "    print(result)\n",
    "    "
   ]
  },
  {
   "cell_type": "code",
   "execution_count": 24,
   "metadata": {},
   "outputs": [
    {
     "name": "stdout",
     "output_type": "stream",
     "text": [
      "b2\n",
      "4\n"
     ]
    }
   ],
   "source": [
    "q2()"
   ]
  },
  {
   "cell_type": "code",
   "execution_count": null,
   "metadata": {},
   "outputs": [],
   "source": []
  }
 ],
 "metadata": {
  "kernelspec": {
   "display_name": "Python 3",
   "language": "python",
   "name": "python3"
  },
  "language_info": {
   "codemirror_mode": {
    "name": "ipython",
    "version": 3
   },
   "file_extension": ".py",
   "mimetype": "text/x-python",
   "name": "python",
   "nbconvert_exporter": "python",
   "pygments_lexer": "ipython3",
   "version": "3.7.4"
  }
 },
 "nbformat": 4,
 "nbformat_minor": 2
}
