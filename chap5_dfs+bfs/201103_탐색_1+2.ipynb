{
 "cells": [
  {
   "cell_type": "markdown",
   "metadata": {},
   "source": [
    "#  1. 꼭 필요한 자료구조 기초\n",
    "## 스택\n",
    "- 위에서부터 차례대로 쌓는 구조\n",
    "- 선입후출(FILO), 후입선출(LIFO)"
   ]
  },
  {
   "cell_type": "code",
   "execution_count": 1,
   "metadata": {},
   "outputs": [
    {
     "name": "stdout",
     "output_type": "stream",
     "text": [
      "[5, 2, 3, 1]\n",
      "[1, 3, 2, 5]\n"
     ]
    }
   ],
   "source": [
    "# 스택 예제\n",
    "stack = []\n",
    "stack.append(5)\n",
    "stack.append(2)\n",
    "stack.append(3)\n",
    "stack.append(7)\n",
    "stack.pop()\n",
    "stack.append(1)\n",
    "stack.append(4)\n",
    "stack.pop()\n",
    "\n",
    "print(stack) # 최하단 원소부터 출력\n",
    "print(stack[::-1]) # 최상단 원소부터 출력"
   ]
  },
  {
   "cell_type": "markdown",
   "metadata": {},
   "source": [
    "- 스택은 리스트로 구현\n",
    "    - append(): 스택에 아이템 삽입\n",
    "    - pop(): 스택에서 아이템 삭제"
   ]
  },
  {
   "cell_type": "markdown",
   "metadata": {},
   "source": [
    "## 큐\n",
    "- 들어온 순서대로 쌓이는 구조\n",
    "- 선입선출(FIFO) 구조"
   ]
  },
  {
   "cell_type": "code",
   "execution_count": 2,
   "metadata": {},
   "outputs": [
    {
     "name": "stdout",
     "output_type": "stream",
     "text": [
      "deque([3, 7, 1, 4])\n",
      "deque([4, 1, 7, 3])\n"
     ]
    }
   ],
   "source": [
    "# 큐 예제\n",
    "from collections import deque\n",
    "\n",
    "# deque 라이브러리 사용\n",
    "queue = deque()\n",
    "\n",
    "queue.append(5)\n",
    "queue.append(2)\n",
    "queue.append(3)\n",
    "queue.append(7)\n",
    "queue.popleft()\n",
    "queue.append(1)\n",
    "queue.append(4)\n",
    "queue.popleft()\n",
    "\n",
    "print(queue) # 먼저 들어온 순서대로 출력\n",
    "queue.reverse()\n",
    "print(queue) # 나중에 들어온 원소부터 출력"
   ]
  },
  {
   "cell_type": "code",
   "execution_count": 3,
   "metadata": {},
   "outputs": [
    {
     "data": {
      "text/plain": [
       "[4, 1, 7, 3]"
      ]
     },
     "execution_count": 3,
     "metadata": {},
     "output_type": "execute_result"
    }
   ],
   "source": [
    "list(queue)"
   ]
  },
  {
   "cell_type": "markdown",
   "metadata": {},
   "source": [
    "- 큐는 collections 모듈의 deque 이용"
   ]
  },
  {
   "cell_type": "markdown",
   "metadata": {},
   "source": [
    "## 재귀함수\n",
    "- 자기 자신을 다시 호출하는 함수\n",
    "- ex) Factorial: 0!과 1!의 값은 1로 같기 때문에 n이 1 이하가 되었을 때 함수를 종료하는 재귀 함수의 형태로 구현 가능"
   ]
  },
  {
   "cell_type": "code",
   "execution_count": 4,
   "metadata": {},
   "outputs": [],
   "source": [
    "# 팩토리얼 예제\n",
    "def factorial_iterative(n):\n",
    "    result = 1\n",
    "    for i in range(1, n+1):\n",
    "        result *= i\n",
    "    \n",
    "    return result\n",
    "\n",
    "def factorial_recursive(n):\n",
    "    if n <= 1:\n",
    "        return 1\n",
    "    return n * factorial_recursive(n-1)"
   ]
  },
  {
   "cell_type": "code",
   "execution_count": 5,
   "metadata": {},
   "outputs": [
    {
     "name": "stdout",
     "output_type": "stream",
     "text": [
      "반복적 구현:  120\n",
      "재귀적 구현:  120\n"
     ]
    }
   ],
   "source": [
    "print(\"반복적 구현: \", factorial_iterative(5))\n",
    "print(\"재귀적 구현: \", factorial_recursive(5))"
   ]
  },
  {
   "cell_type": "markdown",
   "metadata": {},
   "source": [
    "### 종료 조건\n",
    "- 재귀 함수 사용시 종료 조건을 꼭 명시해야 한다.\n",
    "- 컴퓨터 내부에서 재귀 함수의 수행은 스택 자료구조를 이용\n",
    "    - 함수를 계속 호출했을 때 가장 마지막에 호출한 함수가 먼저 수행을 끝내야 그 앞의 함수 호출이 종료되기 때문\n",
    "    - 따라서 스택 자료구조를 사용해야 하는 상당수의 알고리즘은 재귀함수를 이용하면 간편하게 구현이 가능하다 ex) DFS\n",
    "    "
   ]
  },
  {
   "cell_type": "markdown",
   "metadata": {},
   "source": [
    "# 2. 탐색 알고리즘 DFS/BFS\n",
    "## DFS(Depth-First Search, 깊이 우선 탐색)\n",
    "- 그래프에서 깊은 부분을 우선적으로 탐색하는 알고리즘\n",
    "### 그래프\n",
    "- 노드(node)와 간선(edge)로 표현, 노드는 정점(vertex)라고도 부름\n",
    "- 크게 2가지 방식으로 표현할 수 있음\n",
    "- 인접 행렬(Adjacency Matrix): 2차원 배열로 그래프의 연결 관계를 표현하는 방식\n",
    "    - 2차원 배열에 각 노드가 연결된 형태를 기록하는 방식\n",
    "        - 파이썬에서는 2차원 리스트로 구현 가능\n",
    "    - 연결이 되어있지 않은 노드끼리는 무한의 비용이라고 작성"
   ]
  },
  {
   "cell_type": "code",
   "execution_count": 8,
   "metadata": {},
   "outputs": [],
   "source": [
    "# 인접 행렬 방식 예제\n",
    "INF = 999999999\n",
    "\n",
    "graph = [\n",
    "    [0, 7, 5], # 노드 0은 노드 1과는 7, 노드 2와는 5의 비용으로 인접 연결\n",
    "    [7, 0, INF], # 노드 1은 노드 0과는 7의 비용으로 연결, 노드 2와는 연결되지 않음\n",
    "    [5, INF, 0],\n",
    "]"
   ]
  },
  {
   "cell_type": "markdown",
   "metadata": {},
   "source": [
    "- 인접 리스트(Adjacency List): 리스트로 그래프의 연결 관계를 표현하는 방식\n",
    "    - '연결 리스트'라는 자료구조를 이용해 구현\n",
    "    - 단순히 2차원 리스트 이용해 구현하면 됨!"
   ]
  },
  {
   "cell_type": "code",
   "execution_count": 9,
   "metadata": {},
   "outputs": [
    {
     "name": "stdout",
     "output_type": "stream",
     "text": [
      "[[(1, 7), (2, 5)], [(0, 7)], [(0, 5)]]\n"
     ]
    }
   ],
   "source": [
    "# 인접 리스트 방식 예제\n",
    "\n",
    "#행이 3개인 2차원 리스트로 인접 리스트 표현\n",
    "graph = [[] for _ in range(3)]\n",
    "\n",
    "# 노드 0에 연결된 노드 정보 저장(노드, 거리)\n",
    "graph[0].append((1, 7))\n",
    "graph[0].append((2, 5))\n",
    "\n",
    "# 노드 1에 연결된 노드 정보 저장(노드, 거리)\n",
    "graph[1].append((0, 7))\n",
    "\n",
    "# 노드 2에 연결된 노드 정보 저장(노드, 거리)\n",
    "graph[2].append((0, 5))\n",
    "\n",
    "print(graph)"
   ]
  },
  {
   "cell_type": "markdown",
   "metadata": {},
   "source": [
    "- 메모리 측면\n",
    "    - 인접 행렬 방식은 모든 관계를 저장하므로 노드 개수가 많을수록 메모리 불필요하게 낭비\n",
    "    - 인접 리스트 방식은 연결된 정보만을 저장하기 때문에 메모리 효율적으로 사용\n",
    "- 하지만 이렇게 때문에 인접 리스트는 특정한 두 노드가 연결되어 있는지에 대한 정보 얻는 속도가 느림\n",
    "    - 연결된 데이터 하나씩 확인해야하기 때문\n",
    "    - eg) 노드1과 노드7이 연결되어 있는지 확인 시 인접 행렬에서는 graph[1][7]만 확인하면 됨\n",
    "        - but 인접리스트에서는 노드 1에 대한 인접 리스트 앞에서부터 차례대로 확인해야 함\n",
    "- 특정 노드와 연결된 모든 인접 노드 순회해야 하는 경우, 인접 리스트 방식이 메모리 공간의 낭비가 적다.\n"
   ]
  },
  {
   "cell_type": "markdown",
   "metadata": {},
   "source": [
    "- DFS: 특정 경로로 탐색하다가 특정 상황에서 최대한 깊숙이 들어가 노드 방문한 후 다시 돌아가 다른 경로를 탐색하는 알고리즘\n",
    "    - 스택 자료구조를 이용\n",
    "    - 동작 과정\n",
    "        1. 탐색 시작 노드를 스택에 삽입하고 방문 처리를 한다.\n",
    "        2. 스택의 최상단 노드에 방문하지 않은 인접 노드가 있으면 그 인접 노드를 스택에 넣고 방문 처리를 함. 방문하지 않은 인접 노드가 없으면 스택에서 최상단 노드를 꺼냄\n",
    "        3. 2번의 과정을 더 이상 수행할 수 없을때까지 반복"
   ]
  },
  {
   "cell_type": "code",
   "execution_count": 11,
   "metadata": {},
   "outputs": [
    {
     "name": "stdout",
     "output_type": "stream",
     "text": [
      "1 2 7 6 8 3 4 5 "
     ]
    }
   ],
   "source": [
    "# DFS 예제\n",
    "def dfs(graph, v, visited):\n",
    "    # 현재 노드 방문 처리\n",
    "    visited[v] = True\n",
    "    print(v, end=' ')\n",
    "    # 현재 노드와 연결된 다른 노드 재귀적으로 방문\n",
    "    for i in graph[v]:\n",
    "        if not visited[i]:\n",
    "            dfs(graph, i, visited)\n",
    "\n",
    "graph = [\n",
    "    [], \n",
    "    [2, 3, 8],\n",
    "    [1, 7],\n",
    "    [1, 4, 5],\n",
    "    [3, 5],\n",
    "    [3, 4],\n",
    "    [7],\n",
    "    [2, 6, 8],\n",
    "    [1, 7]\n",
    "]\n",
    "\n",
    "visited = [False] * 9\n",
    "\n",
    "dfs(graph, 1, visited)"
   ]
  },
  {
   "cell_type": "markdown",
   "metadata": {},
   "source": [
    "## BFS(Bredth First Search, 너비 우선 탐색)\n",
    "- 가까운 노드부터 탐색하는 알고리즘\n",
    "- FIFO 방식인 큐를 이용하는 것이 정석\n",
    "    - 인접 노드를 반복적으로 큐에 넣도록 알고리즘을 작성하면 자연스럽게 먼저 들어온 것이 먼저 나가게 됨\n",
    "    - 가까운 노드부터 탐색 진행!\n",
    "- 작동 방식:\n",
    "    1. 탐색 시작 노드를 큐에 삽입하고 방문처리\n",
    "    2. 큐에서 노드를 꺼내 해당 노드의 인접 노드 중 방문하지 않은 노드를 모두 큐에 삽입하고 방문 처리\n",
    "    3. 2번의 과정 더 이상 수행할 수 없을 때 까지 반복\n",
    "- 실제 수행 시간은 DFS보다 좋은 편"
   ]
  },
  {
   "cell_type": "code",
   "execution_count": 16,
   "metadata": {},
   "outputs": [
    {
     "name": "stdout",
     "output_type": "stream",
     "text": [
      "1 2 3 8 7 4 5 6 "
     ]
    }
   ],
   "source": [
    "# BFS 예제\n",
    "from collections import deque\n",
    "\n",
    "def bfs(graph, start, visited):\n",
    "    queue = deque([start])\n",
    "    visited[start] = True\n",
    "    while queue:\n",
    "        # 큐에서 하나의 원소 뽑아 출력\n",
    "        v = queue.popleft()\n",
    "        print(v, end= ' ')\n",
    "        # 해당 원소와 연결된, 아직 방문하지 않은 원소들 큐에 삽입\n",
    "        for i in graph[v]:\n",
    "            if not visited[i]: # visited[i]가 False이면\n",
    "                queue.append(i)\n",
    "                visited[i] = True\n",
    "\n",
    "# 각 노드가 연결된 정보를 리스트 자료형으로 표현(2차원 리스트)            \n",
    "graph = [\n",
    "    [], \n",
    "    [2, 3, 8],\n",
    "    [1, 7],\n",
    "    [1, 4, 5],\n",
    "    [3, 5],\n",
    "    [3, 4],\n",
    "    [7],\n",
    "    [2, 6, 8],\n",
    "    [1, 7]\n",
    "]\n",
    "\n",
    "visited = [False] * 9\n",
    "\n",
    "bfs(graph, 1, visited)"
   ]
  },
  {
   "cell_type": "markdown",
   "metadata": {},
   "source": [
    "**dfs는 스택과 재귀함수를, bfs는 큐와 큐 자료구조를 이용한다**"
   ]
  },
  {
   "cell_type": "code",
   "execution_count": null,
   "metadata": {},
   "outputs": [],
   "source": []
  }
 ],
 "metadata": {
  "kernelspec": {
   "display_name": "Python 3",
   "language": "python",
   "name": "python3"
  },
  "language_info": {
   "codemirror_mode": {
    "name": "ipython",
    "version": 3
   },
   "file_extension": ".py",
   "mimetype": "text/x-python",
   "name": "python",
   "nbconvert_exporter": "python",
   "pygments_lexer": "ipython3",
   "version": "3.7.4"
  }
 },
 "nbformat": 4,
 "nbformat_minor": 2
}
