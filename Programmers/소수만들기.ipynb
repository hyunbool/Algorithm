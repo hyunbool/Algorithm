{
 "cells": [
  {
   "cell_type": "markdown",
   "id": "49e0b22d",
   "metadata": {},
   "source": [
    "# 프로그래머스: 소수 만들기\n",
    "주어진 숫자 중 3개의 수를 더했을 때 소수가 되는 경우의 개수를 구하려고 합니다. 숫자들이 들어있는 배열 nums가 매개변수로 주어질 때, nums에 있는 숫자들 중 서로 다른 3개를 골라 더했을 때 소수가 되는 경우의 개수를 return 하도록 solution 함수를 완성해주세요."
   ]
  },
  {
   "cell_type": "markdown",
   "id": "6d9f3446",
   "metadata": {},
   "source": [
    "## 첫번째 시도\n",
    "- 실패\n",
    "    -이유: 소수 판별 시간 너무 오래 걸림 & 라이브러리 안쓰고 부분집합을 만드려고 시도했더니 오히려 시간이 너무 많이 소요됨"
   ]
  },
  {
   "cell_type": "code",
   "execution_count": 1,
   "id": "16f8347d",
   "metadata": {},
   "outputs": [],
   "source": [
    "import math\n",
    "\n",
    "nums = [1, 2, 3, 4]\n",
    "def is_prime(num):\n",
    "    for i in range(2, int(math.sqrt(num))+1):\n",
    "        if num % i == 0:\n",
    "            return 0\n",
    "    return 1\n",
    "\n",
    "def solution(nums):\n",
    "    answer = 0\n",
    "    n = len(nums)\n",
    "    three = list()\n",
    "\n",
    "    for i in range(1<<n):\n",
    "        tmp = list()\n",
    "        for j in range(n):\n",
    "            if i & (1<<j):\n",
    "                tmp.append(nums[j])\n",
    "        print(tmp)\n",
    "        if len(tmp) == 3:\n",
    "            three.append(sum(tmp))\n",
    "    print(three)\n",
    "    for i in three:\n",
    "        answer += is_prime(i)\n",
    "            \n",
    "    \n",
    "    return answer"
   ]
  },
  {
   "cell_type": "markdown",
   "id": "1851a893",
   "metadata": {},
   "source": [
    "## 두번째 시도\n",
    "- 소수 판별: 최대값(998 + 999 + 1000)을 넣어서 소수 리스트를 미리 만들어 두고 체크\n",
    "- combinations 함수 사용해서 간단하게 부분집합 만들기"
   ]
  },
  {
   "cell_type": "code",
   "execution_count": 55,
   "id": "bba89c86",
   "metadata": {},
   "outputs": [],
   "source": [
    "from itertools import combinations\n",
    "\n",
    "def primelist():\n",
    "    n = 1000\n",
    "    primechk = [False, False] + [True] * (n-1)\n",
    "    primes = list()\n",
    "\n",
    "    for i in range(2, n+1):\n",
    "        if primechk[i]:\n",
    "            primes.append(i)\n",
    "            for j in range(2*i, n+1, i):\n",
    "                primechk[j] = False\n",
    "                \n",
    "    return primes\n",
    "            \n",
    "    \n",
    "def solution(nums):\n",
    "    answer = 0\n",
    "    n = len(nums)\n",
    "    three = list()\n",
    "\n",
    "    for i in range(0, len(nums) + 1):\n",
    "        c = list(combinations(nums, 3))\n",
    "\n",
    "    primechk = primelist()\n",
    "    \n",
    "    for i in c:\n",
    "        if int(sum(i)) in primechk:\n",
    "            answer += 1\n",
    "            \n",
    "    \n",
    "    return answer"
   ]
  },
  {
   "cell_type": "code",
   "execution_count": 56,
   "id": "774f8b7b",
   "metadata": {},
   "outputs": [
    {
     "data": {
      "text/plain": [
       "1"
      ]
     },
     "execution_count": 56,
     "metadata": {},
     "output_type": "execute_result"
    }
   ],
   "source": [
    "solution(nums)"
   ]
  },
  {
   "cell_type": "code",
   "execution_count": null,
   "id": "6a25254a",
   "metadata": {},
   "outputs": [],
   "source": []
  }
 ],
 "metadata": {
  "kernelspec": {
   "display_name": "Python 3",
   "language": "python",
   "name": "python3"
  },
  "language_info": {
   "codemirror_mode": {
    "name": "ipython",
    "version": 3
   },
   "file_extension": ".py",
   "mimetype": "text/x-python",
   "name": "python",
   "nbconvert_exporter": "python",
   "pygments_lexer": "ipython3",
   "version": "3.8.10"
  }
 },
 "nbformat": 4,
 "nbformat_minor": 5
}
