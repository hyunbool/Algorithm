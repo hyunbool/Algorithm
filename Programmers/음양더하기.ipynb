{
 "cells": [
  {
   "cell_type": "code",
   "execution_count": 27,
   "id": "007d79d8",
   "metadata": {},
   "outputs": [],
   "source": [
    "signs = [True,False,True]\n",
    "absolutes = [4,7,12]\n",
    "sign = {True: 1, False:-1}"
   ]
  },
  {
   "cell_type": "code",
   "execution_count": 30,
   "id": "fe389ec2",
   "metadata": {},
   "outputs": [],
   "source": [
    "def solution(absolutes, signs):\n",
    "    answer = 123456789\n",
    "    num_length = len(absolutes)\n",
    "    sign = {True: 1, False:-1}\n",
    "    \n",
    "    signs = [sign[x] for x in signs]\n",
    "    \n",
    "    numlist = [absolutes[x] * signs[x] for x in range(num_length)]\n",
    "    \n",
    "    answer = sum(numlist)\n",
    "            \n",
    "    print(numlist)\n",
    "    \n",
    "    return answer"
   ]
  },
  {
   "cell_type": "code",
   "execution_count": 31,
   "id": "e64310fe",
   "metadata": {},
   "outputs": [
    {
     "name": "stdout",
     "output_type": "stream",
     "text": [
      "[4, -7, 12]\n"
     ]
    },
    {
     "data": {
      "text/plain": [
       "9"
      ]
     },
     "execution_count": 31,
     "metadata": {},
     "output_type": "execute_result"
    }
   ],
   "source": [
    "solution(absolutes, signs)"
   ]
  },
  {
   "cell_type": "code",
   "execution_count": 12,
   "id": "b8effe77",
   "metadata": {},
   "outputs": [
    {
     "name": "stdout",
     "output_type": "stream",
     "text": [
      "True\n",
      "False\n",
      "True\n"
     ]
    }
   ],
   "source": [
    "for x in signs:\n",
    "    print(x)"
   ]
  },
  {
   "cell_type": "code",
   "execution_count": null,
   "id": "ac5c5c07",
   "metadata": {},
   "outputs": [],
   "source": []
  }
 ],
 "metadata": {
  "kernelspec": {
   "display_name": "Python 3",
   "language": "python",
   "name": "python3"
  },
  "language_info": {
   "codemirror_mode": {
    "name": "ipython",
    "version": 3
   },
   "file_extension": ".py",
   "mimetype": "text/x-python",
   "name": "python",
   "nbconvert_exporter": "python",
   "pygments_lexer": "ipython3",
   "version": "3.8.10"
  }
 },
 "nbformat": 4,
 "nbformat_minor": 5
}
