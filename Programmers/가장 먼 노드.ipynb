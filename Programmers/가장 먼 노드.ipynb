{
 "cells": [
  {
   "cell_type": "markdown",
   "id": "06b12a74",
   "metadata": {},
   "source": [
    "* 참고: https://velog.io/@younge/Python-%ED%94%84%EB%A1%9C%EA%B7%B8%EB%9E%98%EB%A8%B8%EC%8A%A4-%EA%B0%80%EC%9E%A5-%EB%A8%BC-%EB%85%B8%EB%93%9C-%EA%B7%B8%EB%9E%98%ED%94%84"
   ]
  },
  {
   "cell_type": "code",
   "execution_count": 80,
   "id": "5b2b7bcb",
   "metadata": {},
   "outputs": [],
   "source": [
    "from collections import deque\n",
    "\n",
    "def solution(n, edge):\n",
    "    visited = [0] * n\n",
    "    queue = deque()\n",
    "\n",
    "    edge = sorted(edge)\n",
    "    graph = dict()\n",
    "    for i in range(1, n+1):\n",
    "        graph[i] = set(list())\n",
    "    for e in edge:\n",
    "        try:\n",
    "            graph[e[0]].add(e[1])\n",
    "        except KeyError:\n",
    "            graph[e[0]] = set([e[1]])\n",
    "        try:\n",
    "            graph[e[1]].add(e[0])\n",
    "        except KeyError:\n",
    "            graph[e[1]] = set([e[0]])\n",
    "    print(graph)\n",
    "    queue.append(1)\n",
    "    visited[0] = 1\n",
    "    while queue:\n",
    "        print(queue)\n",
    "        nodes = len(queue)\n",
    "        for i in range(nodes):\n",
    "            cur = queue.popleft()\n",
    "            for j in graph[cur]:\n",
    "                if visited[j-1] == 0:\n",
    "                    visited[j-1] = 1\n",
    "                    queue.append(j)\n",
    "    return nodes"
   ]
  },
  {
   "cell_type": "code",
   "execution_count": 81,
   "id": "3f719be6",
   "metadata": {},
   "outputs": [
    {
     "name": "stdout",
     "output_type": "stream",
     "text": [
      "{1: {2, 3}, 2: {1, 3, 4, 5}, 3: {1, 2, 4, 6}, 4: {2, 3}, 5: {2}, 6: {3}}\n",
      "deque([1])\n",
      "deque([2, 3])\n",
      "deque([4, 5, 6])\n"
     ]
    },
    {
     "data": {
      "text/plain": [
       "3"
      ]
     },
     "execution_count": 81,
     "metadata": {},
     "output_type": "execute_result"
    }
   ],
   "source": [
    "solution(n, edge)"
   ]
  },
  {
   "cell_type": "code",
   "execution_count": null,
   "id": "dcb29999",
   "metadata": {},
   "outputs": [],
   "source": []
  }
 ],
 "metadata": {
  "kernelspec": {
   "display_name": "Python 3",
   "language": "python",
   "name": "python3"
  },
  "language_info": {
   "codemirror_mode": {
    "name": "ipython",
    "version": 3
   },
   "file_extension": ".py",
   "mimetype": "text/x-python",
   "name": "python",
   "nbconvert_exporter": "python",
   "pygments_lexer": "ipython3",
   "version": "3.8.8"
  }
 },
 "nbformat": 4,
 "nbformat_minor": 5
}
