{
 "cells": [
  {
   "cell_type": "code",
   "execution_count": 113,
   "id": "e2628e8c",
   "metadata": {},
   "outputs": [],
   "source": [
    "N = 4\n",
    "stages = [3,3,3,3,2]\n",
    "def solution(N, stages):\n",
    "    # 스테이지 별 멈춰있는 사람 수\n",
    "    stopstage = [0] * (N+2)\n",
    "    curppl = len(stages)\n",
    "\n",
    "    for stage in stages:\n",
    "        stopstage[stage] += 1\n",
    "    \n",
    "    stopstage = stopstage[:-1]\n",
    "    answer = []\n",
    "    result = dict()\n",
    "    \n",
    "    for i, ppl in enumerate(stopstage):\n",
    "        \n",
    "        if not i:\n",
    "            continue\n",
    "        elif curppl == 0:\n",
    "            result[i] = 0\n",
    "            continue\n",
    "            \n",
    "        failure = ppl / curppl\n",
    "\n",
    "        \n",
    "        result[i] = failure\n",
    "        curppl -= ppl\n",
    "        print(result)\n",
    "    \n",
    "    result = dict(sorted(result.items(), key=lambda x : x[1], reverse=True))\n",
    "    \n",
    "    return list(result.keys())"
   ]
  },
  {
   "cell_type": "code",
   "execution_count": 114,
   "id": "2bc09f3a",
   "metadata": {},
   "outputs": [
    {
     "name": "stdout",
     "output_type": "stream",
     "text": [
      "{1: 0.0}\n",
      "{1: 0.0, 2: 0.2}\n",
      "{1: 0.0, 2: 0.2, 3: 1.0}\n"
     ]
    },
    {
     "data": {
      "text/plain": [
       "[3, 2, 1, 4]"
      ]
     },
     "execution_count": 114,
     "metadata": {},
     "output_type": "execute_result"
    }
   ],
   "source": [
    "solution(N, stages)"
   ]
  },
  {
   "cell_type": "code",
   "execution_count": null,
   "id": "5badf13e",
   "metadata": {},
   "outputs": [],
   "source": []
  }
 ],
 "metadata": {
  "kernelspec": {
   "display_name": "Python 3",
   "language": "python",
   "name": "python3"
  },
  "language_info": {
   "codemirror_mode": {
    "name": "ipython",
    "version": 3
   },
   "file_extension": ".py",
   "mimetype": "text/x-python",
   "name": "python",
   "nbconvert_exporter": "python",
   "pygments_lexer": "ipython3",
   "version": "3.8.8"
  }
 },
 "nbformat": 4,
 "nbformat_minor": 5
}
