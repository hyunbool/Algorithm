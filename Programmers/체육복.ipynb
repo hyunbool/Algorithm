{
 "cells": [
  {
   "cell_type": "code",
   "execution_count": 11,
   "id": "ec097c36",
   "metadata": {},
   "outputs": [],
   "source": [
    "def solution(n, lost, reserve):\n",
    "    answer = 0\n",
    "    \n",
    "    # 여벌 체육복 가져왔는데 도난 당한 경우 제외\n",
    "    both  = list(set(lost).intersection(reserve))\n",
    "    lost = [x for x in lost if x not in both]\n",
    "    reserve = [y for y in reserve if y not in both]\n",
    "    \n",
    "    answer = n - len(lost)\n",
    "    for i in lost:\n",
    "        if (i+1 in reserve) or (i-1 in reserve):\n",
    "            answer += 1\n",
    "    return answer"
   ]
  },
  {
   "cell_type": "code",
   "execution_count": 12,
   "id": "115c0705",
   "metadata": {},
   "outputs": [],
   "source": [
    "lost = [2, 4]\n",
    "reserve = [3]\n",
    "n = 5"
   ]
  },
  {
   "cell_type": "code",
   "execution_count": 13,
   "id": "2526fd3e",
   "metadata": {},
   "outputs": [
    {
     "data": {
      "text/plain": [
       "5"
      ]
     },
     "execution_count": 13,
     "metadata": {},
     "output_type": "execute_result"
    }
   ],
   "source": [
    "solution(n, lost, reserve)"
   ]
  },
  {
   "cell_type": "code",
   "execution_count": null,
   "id": "af0cec16",
   "metadata": {},
   "outputs": [],
   "source": []
  }
 ],
 "metadata": {
  "kernelspec": {
   "display_name": "Python 3",
   "language": "python",
   "name": "python3"
  },
  "language_info": {
   "codemirror_mode": {
    "name": "ipython",
    "version": 3
   },
   "file_extension": ".py",
   "mimetype": "text/x-python",
   "name": "python",
   "nbconvert_exporter": "python",
   "pygments_lexer": "ipython3",
   "version": "3.8.10"
  }
 },
 "nbformat": 4,
 "nbformat_minor": 5
}
