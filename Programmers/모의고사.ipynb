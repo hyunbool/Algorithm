{
 "cells": [
  {
   "cell_type": "code",
   "execution_count": 23,
   "id": "144ee5fa",
   "metadata": {},
   "outputs": [],
   "source": [
    "def count_answer(student, answers):\n",
    "    cnt = 0\n",
    "    for i, a in enumerate(answers):\n",
    "        if student[i] == a:\n",
    "            cnt += 1\n",
    "    return cnt\n",
    "\n",
    "def solution(answers):\n",
    "    answer = []\n",
    "    s1 = [1, 2, 3, 4, 5] * 2000\n",
    "    s2 = [2, 1, 2, 3, 2, 4, 2, 5] * 1250\n",
    "    s3 = [3, 3, 1, 1, 2, 2, 4, 4, 5, 5] * 1000\n",
    "    \n",
    "    stdlist = [s1, s2, s3]\n",
    "    cntlist = list()\n",
    "    \n",
    "    for i in stdlist:\n",
    "        cntlist.append(count_answer(i, answers))\n",
    "    \n",
    "    maxscore = max(cntlist)\n",
    "    print(maxscore)\n",
    "    \n",
    "    for i in range(len(cntlist)):\n",
    "        print(cntlist[i])\n",
    "        print(maxscore)\n",
    "        if cntlist[i] == maxscore:\n",
    "            answer.append(i+1)\n",
    "            \n",
    "\n",
    "    return answer"
   ]
  },
  {
   "cell_type": "code",
   "execution_count": 24,
   "id": "e23c2244",
   "metadata": {},
   "outputs": [
    {
     "name": "stdout",
     "output_type": "stream",
     "text": [
      "5\n",
      "5\n",
      "5\n",
      "0\n",
      "5\n",
      "0\n",
      "5\n"
     ]
    }
   ],
   "source": [
    "answers = [1,2,3,4,5]\n",
    "answer = solution(answers)"
   ]
  },
  {
   "cell_type": "code",
   "execution_count": 25,
   "id": "0ad23e13",
   "metadata": {},
   "outputs": [
    {
     "data": {
      "text/plain": [
       "[1]"
      ]
     },
     "execution_count": 25,
     "metadata": {},
     "output_type": "execute_result"
    }
   ],
   "source": [
    "answer"
   ]
  },
  {
   "cell_type": "code",
   "execution_count": null,
   "id": "04a05f3b",
   "metadata": {},
   "outputs": [],
   "source": []
  }
 ],
 "metadata": {
  "kernelspec": {
   "display_name": "Python 3",
   "language": "python",
   "name": "python3"
  },
  "language_info": {
   "codemirror_mode": {
    "name": "ipython",
    "version": 3
   },
   "file_extension": ".py",
   "mimetype": "text/x-python",
   "name": "python",
   "nbconvert_exporter": "python",
   "pygments_lexer": "ipython3",
   "version": "3.8.10"
  }
 },
 "nbformat": 4,
 "nbformat_minor": 5
}
