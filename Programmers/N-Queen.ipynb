{
 "cells": [
  {
   "cell_type": "markdown",
   "id": "ce717bee",
   "metadata": {},
   "source": [
    "# N-Queen\n",
    "* 참고: https://claude-u.tistory.com/245 https://data-engineer.tistory.com/22\n",
    "## 문제\n",
    "* 크기가 N\\*N인 체스판 위에 퀸 N개를 서로 공격할 수 없게 놓는 문제\n",
    "## 풀이\n",
    "* N개의 퀸을 배치해야하므로 무조건 모든 행에 퀸이 들어가야 함\n",
    "    * 0열부터 N-1열까지 for문을 이용\n",
    "    * 이전의 열로 인해 영향을 받는지 검사해 유망한 후보만을 걸러줌"
   ]
  },
  {
   "cell_type": "code",
   "execution_count": 112,
   "id": "437501f2",
   "metadata": {},
   "outputs": [],
   "source": [
    "# 내 윗줄에 나와 겹치는 퀸이 있는가?\n",
    "def check(y, x, row):\n",
    "    for i in range(x):\n",
    "        if (y == row[i]) or (abs(y - row[i]) == x - i): # 대각선 상에 위치하는가?\n",
    "            return False\n",
    "    return True\n",
    "\n",
    "# 한 줄(column)씩 재귀하며 DFS\n",
    "def dfs(x, n, row):\n",
    "    global count\n",
    "    if x == n: # 탐색이 다 끝나면\n",
    "        return 1\n",
    "    count = 0\n",
    "    \n",
    "    for i in range(n): # 내 위의 줄에 대해 탐색\n",
    "        if check(i, x, row):\n",
    "            row[x] = i # 현재 위치 row: x / column: i\n",
    "            count += dfs(x+1, n, row)\n",
    "    return count\n",
    "\n",
    "def solution(n):\n",
    "    global count\n",
    "\n",
    "\n",
    "    count = dfs(0, n, [0] * n)\n",
    "    \n",
    "    return count"
   ]
  },
  {
   "cell_type": "code",
   "execution_count": 113,
   "id": "8ded08e2",
   "metadata": {},
   "outputs": [
    {
     "data": {
      "text/plain": [
       "2"
      ]
     },
     "execution_count": 113,
     "metadata": {},
     "output_type": "execute_result"
    }
   ],
   "source": [
    "solution(4)"
   ]
  },
  {
   "cell_type": "markdown",
   "id": "d9ba5912",
   "metadata": {},
   "source": [
    "알고리즘은 오히려 기본 문제가 더 어려운 느낌이다ㅠ 기본기가 없어서 그러겠지ㅎ 사실 풀이 보고도 잘 이해가 안간다 흑흑 열심히 해야겠구나..."
   ]
  },
  {
   "cell_type": "code",
   "execution_count": null,
   "id": "252b3f80",
   "metadata": {},
   "outputs": [],
   "source": []
  }
 ],
 "metadata": {
  "kernelspec": {
   "display_name": "Python 3",
   "language": "python",
   "name": "python3"
  },
  "language_info": {
   "codemirror_mode": {
    "name": "ipython",
    "version": 3
   },
   "file_extension": ".py",
   "mimetype": "text/x-python",
   "name": "python",
   "nbconvert_exporter": "python",
   "pygments_lexer": "ipython3",
   "version": "3.8.8"
  }
 },
 "nbformat": 4,
 "nbformat_minor": 5
}
