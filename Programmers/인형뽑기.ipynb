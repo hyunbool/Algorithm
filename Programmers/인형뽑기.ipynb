{
 "cells": [
  {
   "cell_type": "code",
   "execution_count": 39,
   "id": "e284df62",
   "metadata": {},
   "outputs": [],
   "source": [
    "board = [[0,0,0,0,0],[0,0,1,0,3],[0,2,5,0,1],[4,2,4,4,2],[3,5,1,3,1]]\n",
    "moves = [1,5,3,5,1,2,1,4]"
   ]
  },
  {
   "cell_type": "code",
   "execution_count": 73,
   "id": "85f75b53",
   "metadata": {},
   "outputs": [],
   "source": [
    "def solution(board, moves):\n",
    "    answer = 0\n",
    "    stack = list()\n",
    "    for i in range(len(board)):\n",
    "        stack.append([x[i] for x in board if x[i] != 0])\n",
    "    \n",
    "    basket = list() # 인형 들어서 가져다 단 바구니\n",
    "    \n",
    "    \n",
    "    for move in moves:\n",
    "        if not len(stack[move-1]):\n",
    "            continue\n",
    "        cur = stack[move-1][0] # 인형\n",
    "        stack[move-1] = stack[move-1][1:]\n",
    "        \n",
    "        if not len(basket): # 바구니가 비어있으면\n",
    "            basket.append(cur)\n",
    "        else:\n",
    "            if basket[-1] == cur: # 인형이 동일한 경우\n",
    "                basket = basket[:-1]\n",
    "                answer += 2 # 두개가 만나서 터지니까 인형 개수는 (터진 횟수 * 2)\n",
    "            else:\n",
    "                basket.append(cur)\n",
    "        \n",
    "        \n",
    "    return answer"
   ]
  },
  {
   "cell_type": "code",
   "execution_count": null,
   "id": "79e9b1b7",
   "metadata": {},
   "outputs": [],
   "source": []
  }
 ],
 "metadata": {
  "kernelspec": {
   "display_name": "Python 3",
   "language": "python",
   "name": "python3"
  },
  "language_info": {
   "codemirror_mode": {
    "name": "ipython",
    "version": 3
   },
   "file_extension": ".py",
   "mimetype": "text/x-python",
   "name": "python",
   "nbconvert_exporter": "python",
   "pygments_lexer": "ipython3",
   "version": "3.8.10"
  }
 },
 "nbformat": 4,
 "nbformat_minor": 5
}
