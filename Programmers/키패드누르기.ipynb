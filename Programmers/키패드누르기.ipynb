{
 "cells": [
  {
   "cell_type": "code",
   "execution_count": 5,
   "id": "a7be1b8b",
   "metadata": {},
   "outputs": [],
   "source": [
    "numbers = [7, 0, 8, 2, 8, 3, 1, 5, 7, 6, 2]\n",
    "hand = \"right\""
   ]
  },
  {
   "cell_type": "code",
   "execution_count": 12,
   "id": "ab8ee2d1",
   "metadata": {},
   "outputs": [],
   "source": [
    "def distance(a, b):\n",
    "    return (((a[0] - b[0])**2) + ((a[1] - b[1])**2))**0.5\n",
    "    \n",
    "def solution(numbers, hand):\n",
    "    hands = {'right': 'R', 'left': 'L'}\n",
    "    hand = hands[hand]\n",
    "    leftnum = [1, 4, 7]\n",
    "    rightnum = [3, 6, 9]\n",
    "    other = [2, 5, 8, 0]\n",
    "    curRight = [3, 2]\n",
    "    curLeft = [3, 0]\n",
    "    answer = ''\n",
    "    \n",
    "    for i in numbers:\n",
    "        if i in leftnum:\n",
    "            curLeft = [leftnum.index(i), 0]\n",
    "            answer += 'L'\n",
    "            continue\n",
    "        elif i in rightnum:\n",
    "            curRight = [rightnum.index(i), 2]\n",
    "            answer += 'R'\n",
    "            continue\n",
    "        else:\n",
    "            keypad = [other.index(i), 1]\n",
    "            rightdist = distance(curRight, keypad)\n",
    "            leftdist = distance(curLeft, keypad)\n",
    "            \n",
    "            if (rightdist < leftdist) or ((rightdist == leftdist) and (hand == \"R\")):\n",
    "                curRight = [other.index(i), 1]\n",
    "                answer += 'R'       \n",
    "                continue\n",
    "            elif (rightdist > leftdist) or ((rightdist == leftdist) and (hand == \"L\")):\n",
    "                curLeft = [other.index(i), 1]\n",
    "                answer += 'L'\n",
    "                continue\n",
    "                                          \n",
    "\n",
    "                \n",
    "\n",
    "    return answer"
   ]
  },
  {
   "cell_type": "code",
   "execution_count": 13,
   "id": "18c7d559",
   "metadata": {},
   "outputs": [
    {
     "data": {
      "text/plain": [
       "'LRRRLRLRLRR'"
      ]
     },
     "execution_count": 13,
     "metadata": {},
     "output_type": "execute_result"
    }
   ],
   "source": [
    "solution(numbers, hand)"
   ]
  },
  {
   "cell_type": "code",
   "execution_count": null,
   "id": "e8a1c142",
   "metadata": {},
   "outputs": [],
   "source": []
  }
 ],
 "metadata": {
  "kernelspec": {
   "display_name": "Python 3",
   "language": "python",
   "name": "python3"
  },
  "language_info": {
   "codemirror_mode": {
    "name": "ipython",
    "version": 3
   },
   "file_extension": ".py",
   "mimetype": "text/x-python",
   "name": "python",
   "nbconvert_exporter": "python",
   "pygments_lexer": "ipython3",
   "version": "3.8.10"
  }
 },
 "nbformat": 4,
 "nbformat_minor": 5
}
