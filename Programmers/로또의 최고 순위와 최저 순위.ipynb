{
 "cells": [
  {
   "cell_type": "code",
   "execution_count": 5,
   "id": "5cd4aa93",
   "metadata": {},
   "outputs": [],
   "source": [
    "lottos = [44, 1, 0, 0, 31, 25]\n",
    "win_nums = [31, 10, 45, 1, 6, 19]"
   ]
  },
  {
   "cell_type": "code",
   "execution_count": 16,
   "id": "30dbef39",
   "metadata": {},
   "outputs": [],
   "source": [
    "def solution(lottos, win_nums):\n",
    "    lottos = sorted([x for x in lottos if x != 0])\n",
    "    zeros = 6 - len(lottos) \n",
    "    win_nums = sorted(win_nums)\n",
    "    \n",
    "    # 전부 알아볼 수 없는 경우(전부 0인 경우)\n",
    "    if len(lottos) < 1: return [1, 6]\n",
    "    \n",
    "    same = list() # 일치하는 숫자 넣는 \n",
    "    for i in lottos:\n",
    "        if i in win_nums: same.append(i)\n",
    "    \n",
    "    # 전부 알아볼 수 있지만 다 틀린 경우\n",
    "    if len(same) < 1: return [6, 6]\n",
    "    \n",
    "    x = 7 - len(same) \n",
    "    y = 7 - (len(same) + zeros)\n",
    "    \n",
    "    answer = sorted([x, y])\n",
    "    \n",
    "    return answer"
   ]
  },
  {
   "cell_type": "code",
   "execution_count": 17,
   "id": "4d72a73f",
   "metadata": {},
   "outputs": [
    {
     "name": "stdout",
     "output_type": "stream",
     "text": [
      "2\n",
      "[1, 31]\n"
     ]
    },
    {
     "data": {
      "text/plain": [
       "[2, 4]"
      ]
     },
     "execution_count": 17,
     "metadata": {},
     "output_type": "execute_result"
    }
   ],
   "source": [
    "solution(lottos, win_nums)"
   ]
  },
  {
   "cell_type": "code",
   "execution_count": null,
   "id": "0e8c6c6c",
   "metadata": {},
   "outputs": [],
   "source": []
  }
 ],
 "metadata": {
  "kernelspec": {
   "display_name": "Python 3",
   "language": "python",
   "name": "python3"
  },
  "language_info": {
   "codemirror_mode": {
    "name": "ipython",
    "version": 3
   },
   "file_extension": ".py",
   "mimetype": "text/x-python",
   "name": "python",
   "nbconvert_exporter": "python",
   "pygments_lexer": "ipython3",
   "version": "3.8.10"
  }
 },
 "nbformat": 4,
 "nbformat_minor": 5
}
