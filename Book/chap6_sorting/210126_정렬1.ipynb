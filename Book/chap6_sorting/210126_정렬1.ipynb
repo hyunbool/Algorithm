{
 "cells": [
  {
   "cell_type": "markdown",
   "metadata": {},
   "source": [
    "# 6. 정렬\n",
    "## 1. 기준에 따라 데이터를 정렬\n",
    "\n",
    "* 정렬(Sorting): 데이터를 특정한 기준에 따라 순서대로 나열하는 것\n",
    "    * 선택 정렬, 삽입 정렬, 퀵 정렬, 계수 정렬\n",
    "    * 해당 책에서는 오름차순 정렬 수행한다고 가정\n",
    "    \n",
    "### 선택 정렬\n",
    "* 선택 정렬(Selection Sort): 데이터가 무작위로 여러 개 있을 때, 이 중 가장 작은 데이터를 선택해 맨앞의 데이터와 바꾸고, 그 다음 작은 데이터를 선택해 두번째 데이터와 바꾸는 과정을 반복하는 정렬\n",
    "    * 매번 '가장 작은 것'을 선택\n",
    "* 시간 복잡도: O(n^2)\n",
    " "
   ]
  },
  {
   "cell_type": "code",
   "execution_count": 3,
   "metadata": {},
   "outputs": [
    {
     "name": "stdout",
     "output_type": "stream",
     "text": [
      "[0, 1, 2, 3, 4, 5, 6, 7, 8, 9]\n"
     ]
    }
   ],
   "source": [
    "# 6-1.py 선택정렬 소스코드\n",
    "\n",
    "array = [7, 5, 9, 0, 3, 1, 6, 2, 4, 8]\n",
    "\n",
    "\n",
    "for i in range(len(array)):\n",
    "    min_index = i # 가장 작은 원소의 인덱스\n",
    "    for j in range(i + 1, len(array)):\n",
    "        if array[min_index] > array[j]:\n",
    "            min_index = j\n",
    "    array[i], array[min_index] = array[min_index], array[i]\n",
    "\n",
    "print(array)"
   ]
  },
  {
   "cell_type": "markdown",
   "metadata": {},
   "source": [
    "### 삽입 정렬\n",
    "* 삽입 정렬: 데이터를 하나씩 확인하며 각 데이터를 적절한 위치에 삽입하는 정렬\n",
    "    * 정렬이 이미 이뤄진 원소는 항상 오름차순을 유지하고 있음\n",
    "* 시간 복잡도: O(N^2)\n",
    "    * 만약 리스트의 데이터가 거의 정렬되어 있는 상태라면 매우 빠르게 동작한다.\n",
    "    * optimal: O(N)"
   ]
  },
  {
   "cell_type": "code",
   "execution_count": 5,
   "metadata": {},
   "outputs": [
    {
     "name": "stdout",
     "output_type": "stream",
     "text": [
      "[0, 1, 2, 3, 4, 5, 6, 7, 8, 9]\n"
     ]
    }
   ],
   "source": [
    "# 6-3.py 삽입 정렬 소스코드\n",
    "array = [7, 5, 9, 0, 3, 1, 6, 2, 4, 8]\n",
    "\n",
    "for i in range(1, len(array)):\n",
    "    for j in range(i, 0, -1):\n",
    "        if array[j] < array[j - 1]:\n",
    "            array[j], array[j -1] = array[j-1], array[j]\n",
    "        else:\n",
    "            break\n",
    "            \n",
    "print(array)"
   ]
  },
  {
   "cell_type": "code",
   "execution_count": null,
   "metadata": {},
   "outputs": [],
   "source": []
  }
 ],
 "metadata": {
  "kernelspec": {
   "display_name": "Python 3",
   "language": "python",
   "name": "python3"
  },
  "language_info": {
   "codemirror_mode": {
    "name": "ipython",
    "version": 3
   },
   "file_extension": ".py",
   "mimetype": "text/x-python",
   "name": "python",
   "nbconvert_exporter": "python",
   "pygments_lexer": "ipython3",
   "version": "3.7.4"
  }
 },
 "nbformat": 4,
 "nbformat_minor": 2
}
