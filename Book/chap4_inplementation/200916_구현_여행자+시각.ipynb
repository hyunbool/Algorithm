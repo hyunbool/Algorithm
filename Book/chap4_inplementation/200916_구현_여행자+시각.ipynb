{
 "cells": [
  {
   "cell_type": "markdown",
   "metadata": {},
   "source": [
    "# 1. 아이디어를 코드로 바꾸는 구현\n",
    "* 구현(Implementation): 머리속에 있는 알고리즘을 소스코드로 바꾸는 과정\n",
    "* 책에서는 완전 탐색, 시뮬레이션 유형을 모드 '구현' 유형으로 묶어서 다룸\n",
    "    * 완전 탐색: 모든 경우의 수를 주저 없이 다 계산하는 해결 방법\n",
    "    * 시뮬레이션: 문제에서 제시한 알고리즘을 한 단계씩 차례대로 직접 수행해야 하는 문제 유형\n",
    "## 구현 시 고려해야 할 메모리 제약 사항\n",
    "### 파이썬에서 변수 표현 범위\n",
    "* 파이썬에서는 프로그래머가 직접 자료형 지정할 필요 X, 매우 큰 수의 경우도 기본적으로 지원\n",
    "    * 다만 유효숫자에 따라 연산 결과가 원하는 값이 나오지 않을 수도 있다는 점은 기억\n",
    "* 리스트 이용 시 코딩 테스트의 메모리 제한을 고려해야 함.\n",
    "    * ㄹ대체로 코딩 테스트의 메모리는 128 ~ 512MB로 제한\n",
    "    * 데이터 처리량이 많을 땐 메모리 꼭 고려\n",
    "        * 리스트 여러개 선언 + 그 중 크기가 1,000만 이상인 리스트가 있다면 메모리 용량 제한으로 문제 못풀수도!"
   ]
  },
  {
   "cell_type": "markdown",
   "metadata": {},
   "source": [
    "## 예제 4-1: 상하좌우\n",
    "* 여행가 A는 N * N 크기의 정사각형 공간 위에 서 있다. 이 공간은 1 * 1 크기의 정사각형으로 나누어져 있다. 가장 왼쪽 위 좌표는 (1, 1)이며 가장 오른족 아래 좌표는 (N, N)에 해당한다. 여행가는 상, 하, 좌, 우 방향으로 이동할 수 있으며, 시작 좌표는 항상 (1, 1)이다. 여행가 A가 이동할 계획서에는 하나의 줄에 띄어쓰기를 기준으로 해 L, R, U, D 중 하나의 문자가 반복적으로 적혀 있다. 각 문자의 의미는 다음과 같다.\n",
    "    * L: 왼쪽으로 한칸 이동\n",
    "    * R: 오른쪽으로 한 칸 이동\n",
    "    * U: 위로 한 칸 이동\n",
    "    * D: 아래로 한 칸 이동\n",
    "* 이때 여행가 A가 N * N 크기의 정사각형 공간을 벗어나는 움직임은 무시된다, 예를 들어 (1, 1)에서 L 혹은 U를 만나면 무시된다.\n",
    "* 계획서가 주어졌을 때 여행가 A가 최종적으로 도착할 지점의 좌표를 출력하는 프로그램을 작성하시오.\n",
    "### 입력 조건\n",
    "* 첫째 줄에 공간의 크기를 나타내는 N이 주어진다.(1 <= N <= 100)\n",
    "* 둘째 줄에 여행가 A가 이동할 계획서 내용이 주어진다.(1 <= 이동횟수 <= 100)\n",
    "### 출력 조건\n",
    "* 첫째 줄에 여행가 A가 최종적으로 도착할 지점의 좌표 (X, Y)를 공백으로 구분해 출력한다."
   ]
  },
  {
   "cell_type": "code",
   "execution_count": 15,
   "metadata": {},
   "outputs": [],
   "source": [
    "def q4_1():\n",
    "    N = int(input())\n",
    "    #schedule = list(map(str, input().split()))\n",
    "    schedule = input().split()\n",
    "    curx = cury = 1\n",
    "    \n",
    "    for i in schedule:\n",
    "        if i == 'R':\n",
    "            if cury + 1 > N:\n",
    "                continue\n",
    "            else:\n",
    "                cury += 1\n",
    "        elif i == 'L':\n",
    "            if cury - 1 < 1:\n",
    "                continue\n",
    "            else:\n",
    "                cury -= 1\n",
    "        elif i == 'U':\n",
    "            if curx - 1 < 1:\n",
    "                continue\n",
    "            else:\n",
    "                curx -= 1\n",
    "        else:\n",
    "            if curx + 1 > N:\n",
    "                continue\n",
    "            else:\n",
    "                curx += 1\n",
    "    \n",
    "    print(curx, cury)"
   ]
  },
  {
   "cell_type": "code",
   "execution_count": 16,
   "metadata": {},
   "outputs": [
    {
     "name": "stdout",
     "output_type": "stream",
     "text": [
      "5\n",
      "R R R U D D\n",
      "3 4\n"
     ]
    }
   ],
   "source": [
    "q4_1()"
   ]
  },
  {
   "cell_type": "code",
   "execution_count": null,
   "metadata": {},
   "outputs": [],
   "source": [
    "def q4_1_ans():\n",
    "    move_types = ['L', 'R', 'U', 'D']\n",
    "    dx = [0, 0, 1, -1]\n",
    "    dy = [-1, 1, 0, 0]\n",
    "        N = int(input())\n",
    "    #schedule = list(map(str, input().split()))\n",
    "    schedule = input().split()\n",
    "    curx = cury = 1\n",
    "    \n",
    "    for i in schedule:\n",
    "        for x in range(len(move_types)):\n",
    "            if i == move_types[x]:\n",
    "                nx = curx + dx[x]\n",
    "                ny = cury + dy[x]\n",
    "        if nx < 1 or nx > N or ny < 1 or ny > N:\n",
    "            continue\n",
    "        curx, cury = nx, ny\n",
    "    \n",
    "    print(curx, cury)"
   ]
  },
  {
   "cell_type": "markdown",
   "metadata": {},
   "source": [
    "## 예제 4-2: 시각\n",
    "* 정수 N이 입력되면 00시 00분 00초로부터 N시 59분 59초까지의 모든 시각 중에서 3이 하나라도 포함되는 모든 경우의 수를 구하는 프로그램을 작성하시오.\n",
    "* 예를 들어\n",
    "    * 1을 입력했을 때 다음은 3이 하나라도 포함되어 있으므로 세어야 하는 시각이다.\n",
    "        * 00시 00분 03초\n",
    "        * 00시 13분 30초\n",
    "### 입력 조건\n",
    "* 첫째 줄에 정수 N이 입력된다.(0 <= N <= 23)\n",
    "\n",
    "### 출력 조건\n",
    "* 00시 00분 00초로부터 N시 59분 59초까지의 모든 시각 중에서 3이 하나라도 포함되는 모든 경우의 수를 출력한다.\n"
   ]
  },
  {
   "cell_type": "code",
   "execution_count": 23,
   "metadata": {},
   "outputs": [],
   "source": [
    "def q4_2():\n",
    "    N = int(input())\n",
    "    t, m, s = 0, 0, 0\n",
    "    all_hour = [3, 13, 23]\n",
    "    result = 0\n",
    "    inc3 = 0\n",
    "    \n",
    "    for i in range(60):\n",
    "        if '3' in str(i):\n",
    "            inc3 += 1\n",
    "            \n",
    "    \n",
    "    for i in range(N+1):\n",
    "        if i not in all_hour: # 분에3포함 + 초에3포함 - 분초모두포함\n",
    "            result += 2 * 60 * inc3 - (inc3**2)\n",
    "        else:\n",
    "            result += 60 * 60\n",
    "    \n",
    "    print(result)\n",
    "    "
   ]
  },
  {
   "cell_type": "code",
   "execution_count": 24,
   "metadata": {},
   "outputs": [
    {
     "name": "stdout",
     "output_type": "stream",
     "text": [
      "5\n",
      "11475\n"
     ]
    }
   ],
   "source": [
    "q4_2()"
   ]
  },
  {
   "cell_type": "code",
   "execution_count": null,
   "metadata": {},
   "outputs": [],
   "source": [
    "# 모든 시각의 경우를 하나씩 모두 세서 쉽게 풀 수 있는 문제"
   ]
  }
 ],
 "metadata": {
  "kernelspec": {
   "display_name": "Python 3",
   "language": "python",
   "name": "python3"
  },
  "language_info": {
   "codemirror_mode": {
    "name": "ipython",
    "version": 3
   },
   "file_extension": ".py",
   "mimetype": "text/x-python",
   "name": "python",
   "nbconvert_exporter": "python",
   "pygments_lexer": "ipython3",
   "version": "3.7.4"
  }
 },
 "nbformat": 4,
 "nbformat_minor": 2
}
