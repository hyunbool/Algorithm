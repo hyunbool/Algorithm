{
 "cells": [
  {
   "cell_type": "code",
   "execution_count": 4,
   "metadata": {},
   "outputs": [
    {
     "name": "stdout",
     "output_type": "stream",
     "text": [
      "4 4 2 1\n",
      "1 2\n",
      "1 3\n",
      "2 3\n",
      "2 4\n"
     ]
    }
   ],
   "source": [
    "n, m, k, x = map(int, input().split())\n",
    "\n",
    "graph = [[]*n for i in range(n+1)]\n",
    "    \n",
    "for i in range(m):\n",
    "    a, b = map(int, input().split())\n",
    "    graph[a].append(b)\n",
    "    \n",
    "visited = [False] * n"
   ]
  },
  {
   "cell_type": "code",
   "execution_count": 5,
   "metadata": {
    "scrolled": true
   },
   "outputs": [
    {
     "data": {
      "text/plain": [
       "[[], [2, 3], [3, 4], [], []]"
      ]
     },
     "execution_count": 5,
     "metadata": {},
     "output_type": "execute_result"
    }
   ],
   "source": [
    "graph"
   ]
  },
  {
   "cell_type": "code",
   "execution_count": 6,
   "metadata": {},
   "outputs": [
    {
     "data": {
      "text/plain": [
       "[False, False, False, False]"
      ]
     },
     "execution_count": 6,
     "metadata": {},
     "output_type": "execute_result"
    }
   ],
   "source": [
    "visited"
   ]
  },
  {
   "cell_type": "code",
   "execution_count": null,
   "metadata": {},
   "outputs": [],
   "source": [
    "# DFS 예제\n",
    "# 그래프, 시작노드, \n",
    "def dfs(graph, v, visited):\n",
    "    # 현재 노드 방문 처리\n",
    "    visited[v] = True\n",
    "    print(v, end=' ')\n",
    "    # 현재 노드와 연결된 다른 노드 재귀적으로 방문\n",
    "    for i in graph[v]:\n",
    "        if not visited[i]:\n",
    "            dfs(graph, i, visited)"
   ]
  },
  {
   "cell_type": "markdown",
   "metadata": {},
   "source": [
    "## DFS 이용!"
   ]
  },
  {
   "cell_type": "code",
   "execution_count": 7,
   "metadata": {},
   "outputs": [
    {
     "name": "stdout",
     "output_type": "stream",
     "text": [
      "4 4 2 1\n",
      "1 2\n",
      "1 3\n",
      "2 3\n",
      "2 4\n"
     ]
    }
   ],
   "source": [
    "from collections import deque\n",
    "\n",
    "# 도시의 개수, 도로의 개수, 거리 정보, 출발 도시 번호\n",
    "n, m, k, x = map(int, input().split())\n",
    "graph = [[] for _ in range(n + 1)]\n",
    "\n",
    "# 모든 도로 정보 입력 받기\n",
    "for _ in range(m):\n",
    "    a, b = map(int, input().split())\n",
    "    graph[a].append(b)\n",
    "\n",
    "# 모든 도시에 대한 최단 거리 초기화\n",
    "distance = [-1] * (n + 1)\n",
    "distance[x] = 0 # 출발 도시까지의 거리는 0으로 설정\n",
    "\n"
   ]
  },
  {
   "cell_type": "code",
   "execution_count": 10,
   "metadata": {},
   "outputs": [
    {
     "data": {
      "text/plain": [
       "[[], [2, 3], [3, 4], [], []]"
      ]
     },
     "execution_count": 10,
     "metadata": {},
     "output_type": "execute_result"
    }
   ],
   "source": [
    "graph"
   ]
  },
  {
   "cell_type": "code",
   "execution_count": 9,
   "metadata": {},
   "outputs": [
    {
     "name": "stdout",
     "output_type": "stream",
     "text": [
      "4\n"
     ]
    }
   ],
   "source": [
    "# 너비 우선 탐색(BFS) 수행\n",
    "q = deque([x])\n",
    "while q:\n",
    "    now = q.popleft()\n",
    "    # 현재 도시에서 이동할 수 있는 모든 도시를 확인\n",
    "    for next_node in graph[now]:\n",
    "        # 아직 방문하지 않은 도시라면\n",
    "        if distance[next_node] == -1:\n",
    "            # 최단 거리 갱신\n",
    "            distance[next_node] = distance[now] + 1\n",
    "            q.append(next_node)\n",
    "\n",
    "# 최단 거리가 K인 모든 도시의 번호를 오름차순으로 출력\n",
    "check = False\n",
    "for i in range(1, n + 1):\n",
    "    if distance[i] == k:\n",
    "        print(i)\n",
    "        check = True\n",
    "\n",
    "# 만약 최단 거리가 K인 도시가 없다면, -1 출력\n",
    "if check == False:\n",
    "    print(-1)"
   ]
  },
  {
   "cell_type": "code",
   "execution_count": null,
   "metadata": {},
   "outputs": [],
   "source": []
  }
 ],
 "metadata": {
  "kernelspec": {
   "display_name": "Python 3",
   "language": "python",
   "name": "python3"
  },
  "language_info": {
   "codemirror_mode": {
    "name": "ipython",
    "version": 3
   },
   "file_extension": ".py",
   "mimetype": "text/x-python",
   "name": "python",
   "nbconvert_exporter": "python",
   "pygments_lexer": "ipython3",
   "version": "3.7.4"
  }
 },
 "nbformat": 4,
 "nbformat_minor": 2
}
