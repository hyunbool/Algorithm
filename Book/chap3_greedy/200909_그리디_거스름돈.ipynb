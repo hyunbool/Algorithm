{
 "cells": [
  {
   "cell_type": "markdown",
   "metadata": {},
   "source": [
    "# 1. 당장 좋은 것만 선택하는 그리디\n",
    "* 그리디(greedy) 알고리즘: 현재 상황에서 지금 당장 좋은 것만 고르는 방법\n",
    "    * 매 순간 가장 좋아 보이는 것을 선택\n",
    "    * 현재의 선택이 나중에 미칠 영향에 대해서는 고려하지 않음\n",
    "    \n",
    "* 코딩테스트에서의 그리디 알고리즘 문제 => 다른 알고리즘과 비교했을 때 '사전에 외우고 있지 않아도 풀 수 있을 가능성이 높은' 문제\n",
    "* 기준에 따라 좋은 것을 선택하는 알고리즘 ∴문제에서 '가장 큰 순서대로', '가장 작은 순서대로'와 같은 기준 제시\n",
    "    * 이런 기준 -> 정렬 알고리즘을 사용했을 때 만족시킬 수 있기 때문에 보통 정렬 알고리즘과 함께 출제됨!"
   ]
  },
  {
   "cell_type": "markdown",
   "metadata": {},
   "source": [
    "## 3-1 거스름돈\n",
    "* 거스름돈으로 사용할 500원, 100원, 50원, 10원짜리 동전히 무한히 존재한다고 가정\n",
    "* 손님에게 거슬러 줘야 할 돈이 N원일 때 거슬러 줘야 할 동전의 최소 개수는?\n",
    "* 단 거슬러 줘야할 돈 N은 항상 10의 배수\n",
    "\n",
    "\n",
    "답) **'가장 큰 화폐 단위'부터 돈을 거슬러 줌**"
   ]
  },
  {
   "cell_type": "code",
   "execution_count": 10,
   "metadata": {},
   "outputs": [],
   "source": [
    "def change_money(N):\n",
    "    coins = [500, 100, 50, 10]\n",
    "    tmp = 0\n",
    "    for coin in coins:\n",
    "        tmp += N // coin # //가 몫\n",
    "        N %= coin # %가 나머지\n",
    "    \n",
    "    print(tmp)"
   ]
  },
  {
   "cell_type": "code",
   "execution_count": 11,
   "metadata": {},
   "outputs": [
    {
     "name": "stdout",
     "output_type": "stream",
     "text": [
      "6\n"
     ]
    }
   ],
   "source": [
    "change_money(1260)"
   ]
  },
  {
   "cell_type": "markdown",
   "metadata": {},
   "source": [
    "## 그리디 알고리즘의 정당성\n",
    "* 그리디 알고리즘을 모든 알고리즘 문제에 적용할 수 있는 것은 아님\n",
    "    * 하지만 탐욕적으로 문제에 접근했을 때 정확한 답을 찾을 수 있다는 보장이 있을 땐 효과적!\n",
    "    * eg) 거스름돈 문제\n",
    "        * 가지고 있는 동전 중 큰 단위가 항상 작은 단위의 배수이기 때문에 작은 단위의 동전을 종합했을 때 다른 해가 나올 수 없음\n",
    "        * 800원 거슬러 주는 경우 500원/400원/100원이면 그리디->4개이지만 최적해는 2개\n",
    "            * 이런 경우는 다이나믹 프로그래밍으로 해결 가능"
   ]
  },
  {
   "cell_type": "code",
   "execution_count": null,
   "metadata": {},
   "outputs": [],
   "source": []
  }
 ],
 "metadata": {
  "kernelspec": {
   "display_name": "Python 3",
   "language": "python",
   "name": "python3"
  },
  "language_info": {
   "codemirror_mode": {
    "name": "ipython",
    "version": 3
   },
   "file_extension": ".py",
   "mimetype": "text/x-python",
   "name": "python",
   "nbconvert_exporter": "python",
   "pygments_lexer": "ipython3",
   "version": "3.7.4"
  }
 },
 "nbformat": 4,
 "nbformat_minor": 2
}
