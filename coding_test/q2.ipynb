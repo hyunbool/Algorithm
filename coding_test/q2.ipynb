{
 "metadata": {
  "language_info": {
   "codemirror_mode": {
    "name": "ipython",
    "version": 3
   },
   "file_extension": ".py",
   "mimetype": "text/x-python",
   "name": "python",
   "nbconvert_exporter": "python",
   "pygments_lexer": "ipython3",
   "version": "3.7.4"
  },
  "orig_nbformat": 2,
  "kernelspec": {
   "name": "python374jvsc74a57bd0dca0ade3e726a953b501b15e8e990130d2b7799f14cfd9f4271676035ebe5511",
   "display_name": "Python 3.7.4 64-bit ('anaconda3': virtualenv)"
  }
 },
 "nbformat": 4,
 "nbformat_minor": 2,
 "cells": [
  {
   "cell_type": "code",
   "execution_count": 58,
   "metadata": {},
   "outputs": [],
   "source": [
    "from itertools import combinations\n",
    "\n",
    "def solution(orders, course):\n",
    "    result = []\n",
    "    \n",
    "    for num in course:\n",
    "        combination = list()\n",
    "        for menu in orders:\n",
    "            food = sorted(list(menu))\n",
    "            foods = list(map(lambda x: ''.join(x), combinations(list(food), num)))\n",
    "            print(foods)      \n",
    "            if foods: # tmp가 빈 리스트가 아닐 때\n",
    "                combination += foods\n",
    "\n",
    "        count = dict.fromkeys(list(set(combination)), 0)\n",
    "        for comb in combination:\n",
    "            count[comb] += 1\n",
    "\n",
    "        \n",
    "        if len(count) <= 1:\n",
    "            continue\n",
    "            \n",
    "        dict_max = max(count.values())\n",
    "        \n",
    "        if dict_max <= 1:\n",
    "            continue\n",
    "        for key, value in count.items():\n",
    "            if value == dict_max:\n",
    "                result.append(key)\n",
    "    \n",
    "    return sorted(result)"
   ]
  },
  {
   "cell_type": "code",
   "execution_count": null,
   "metadata": {},
   "outputs": [],
   "source": []
  }
 ]
}