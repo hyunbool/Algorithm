{
 "metadata": {
  "language_info": {
   "codemirror_mode": {
    "name": "ipython",
    "version": 3
   },
   "file_extension": ".py",
   "mimetype": "text/x-python",
   "name": "python",
   "nbconvert_exporter": "python",
   "pygments_lexer": "ipython3",
   "version": "3.7.4"
  },
  "orig_nbformat": 2,
  "kernelspec": {
   "name": "python374jvsc74a57bd0dca0ade3e726a953b501b15e8e990130d2b7799f14cfd9f4271676035ebe5511",
   "display_name": "Python 3.7.4 64-bit ('anaconda3': virtualenv)"
  }
 },
 "nbformat": 4,
 "nbformat_minor": 2,
 "cells": [
  {
   "cell_type": "code",
   "execution_count": 57,
   "metadata": {},
   "outputs": [
    {
     "output_type": "stream",
     "name": "stdout",
     "text": [
      "1\n1\n1\n1\n2\n4\n"
     ]
    }
   ],
   "source": [
    "info = [\"java backend junior pizza 150\",\n",
    "\"python frontend senior chicken 210\",\n",
    "\"python frontend senior chicken 150\",\n",
    "\"cpp backend senior pizza 260\",\n",
    "\"java backend junior chicken 80\",\n",
    "\"python backend senior chicken 50\"]\n",
    "\n",
    "query = [\"java and backend and junior and pizza 100\",\n",
    "\"python and frontend and senior and chicken 200\",\n",
    "\"cpp and - and senior and pizza 250\",\n",
    "\"- and backend and senior and - 150\",\n",
    "\"- and - and - and chicken 100\",\n",
    "\"- and - and - and - 150\"]\n",
    "\n",
    "info = list(map(lambda x: x.split(\" \"), info))\n",
    "query = list(map(lambda x: x.replace(' and', '').split(\" \"), query))\n",
    "result = list()\n",
    "\n",
    "for q in query:\n",
    "    count = 0\n",
    "    q =  [item for item in q if item != '-']\n",
    "    for person in info:\n",
    "        if (int(person[-1]) >= int(q[-1])) and (set(q[:-1]).issubset(set(person))):\n",
    "            count += 1\n",
    "    result.append(count)\n"
   ]
  },
  {
   "cell_type": "code",
   "execution_count": 11,
   "metadata": {},
   "outputs": [
    {
     "output_type": "execute_result",
     "data": {
      "text/plain": [
       "[['java', 'backend', 'junior', 'pizza', '100'],\n",
       " ['python', 'frontend', 'senior', 'chicken', '200'],\n",
       " ['cpp', '-', 'senior', 'pizza', '250'],\n",
       " ['-', 'backend', 'senior', '-', '150'],\n",
       " ['-', '-', '-', 'chicken', '100'],\n",
       " ['-', '-', '-', '-', '150']]"
      ]
     },
     "metadata": {},
     "execution_count": 11
    }
   ],
   "source": [
    "query"
   ]
  },
  {
   "cell_type": "code",
   "execution_count": 12,
   "metadata": {},
   "outputs": [
    {
     "output_type": "execute_result",
     "data": {
      "text/plain": [
       "[['java', 'backend', 'junior', 'pizza', '150'],\n",
       " ['python', 'frontend', 'senior', 'chicken', '210'],\n",
       " ['python', 'frontend', 'senior', 'chicken', '150'],\n",
       " ['cpp', 'backend', 'senior', 'pizza', '260'],\n",
       " ['java', 'backend', 'junior', 'chicken', '80'],\n",
       " ['python', 'backend', 'senior', 'chicken', '50']]"
      ]
     },
     "metadata": {},
     "execution_count": 12
    }
   ],
   "source": [
    "info"
   ]
  },
  {
   "cell_type": "code",
   "execution_count": 58,
   "metadata": {},
   "outputs": [
    {
     "output_type": "execute_result",
     "data": {
      "text/plain": [
       "[1, 1, 1, 1, 2, 4]"
      ]
     },
     "metadata": {},
     "execution_count": 58
    }
   ],
   "source": [
    "result"
   ]
  },
  {
   "cell_type": "code",
   "execution_count": 57,
   "metadata": {},
   "outputs": [
    {
     "output_type": "stream",
     "name": "stdout",
     "text": [
      "100backendjavajuniorpizza\n200chickenfrontendpythonsenior\n250cpppizzasenior\n150backendsenior\n100chicken\n150\n"
     ]
    }
   ],
   "source": [
    "from itertools import combinations\n",
    "\n",
    "info = [\"java backend junior pizza 150\",\n",
    "\"python frontend senior chicken 210\",\n",
    "\"python frontend senior chicken 150\",\n",
    "\"cpp backend senior pizza 260\",\n",
    "\"java backend junior chicken 80\",\n",
    "\"python backend senior chicken 50\"]\n",
    "\n",
    "query = [\"java and backend and junior and pizza 100\",\n",
    "\"python and frontend and senior and chicken 200\",\n",
    "\"cpp and - and senior and pizza 250\",\n",
    "\"- and backend and senior and - 150\",\n",
    "\"- and - and - and chicken 100\",\n",
    "\"- and - and - and - 150\"]\n",
    "\n",
    "info = list(map(lambda x: x.split(\" \"), info))\n",
    "query = list(map(lambda x: x.replace(' and', '').split(\" \"), query))\n",
    "result = list()\n",
    "all_info = dict()\n",
    "all_info[\"-----\"] = list() # 점수만 고려하는 경우 위해 초기화\n",
    "\n",
    "\n",
    "for person in info:\n",
    "    score = person[-1]\n",
    "    all_info[\"-----\"].append(score)\n",
    "    for num in range(2, len(person)):\n",
    "        tmp = list(map(lambda x: sorted(list(x)), combinations(person[:-1], num)))\n",
    "        for t in tmp:\n",
    "            t = \"\".join(t)\n",
    "            if not all_info.get(t):\n",
    "                all_info[t] = [score]\n",
    "            else:\n",
    "                all_info[t].append(score)\n",
    "\n",
    "for q in query:\n",
    "    count = 0\n",
    "    q = \"\".join(sorted([item for item in q if item != '-']))\n",
    "    \n",
    "    # 점수만 고려\n",
    "    if len(q) < 2:\n",
    "        \n",
    "    # 점수 외 다른 조건도 고려\n",
    "\n"
   ]
  },
  {
   "cell_type": "code",
   "execution_count": 26,
   "metadata": {
    "tags": []
   },
   "outputs": [
    {
     "output_type": "error",
     "ename": "TypeError",
     "evalue": "list indices must be integers or slices, not list",
     "traceback": [
      "\u001b[0;31m---------------------------------------------------------------------------\u001b[0m",
      "\u001b[0;31mTypeError\u001b[0m                                 Traceback (most recent call last)",
      "\u001b[0;32m<ipython-input-26-3112e7c19a4d>\u001b[0m in \u001b[0;36m<module>\u001b[0;34m\u001b[0m\n\u001b[1;32m      3\u001b[0m \u001b[0;32mfor\u001b[0m \u001b[0mq\u001b[0m \u001b[0;32min\u001b[0m \u001b[0mquery\u001b[0m\u001b[0;34m:\u001b[0m\u001b[0;34m\u001b[0m\u001b[0;34m\u001b[0m\u001b[0m\n\u001b[1;32m      4\u001b[0m     \u001b[0mq\u001b[0m \u001b[0;34m=\u001b[0m  \u001b[0msorted\u001b[0m\u001b[0;34m(\u001b[0m\u001b[0;34m[\u001b[0m\u001b[0mitem\u001b[0m \u001b[0;32mfor\u001b[0m \u001b[0mitem\u001b[0m \u001b[0;32min\u001b[0m \u001b[0mq\u001b[0m \u001b[0;32mif\u001b[0m \u001b[0mitem\u001b[0m \u001b[0;34m!=\u001b[0m \u001b[0;34m'-'\u001b[0m\u001b[0;34m]\u001b[0m\u001b[0;34m)\u001b[0m\u001b[0;34m\u001b[0m\u001b[0;34m\u001b[0m\u001b[0m\n\u001b[0;32m----> 5\u001b[0;31m     \u001b[0mprint\u001b[0m\u001b[0;34m(\u001b[0m\u001b[0mbisect_left\u001b[0m\u001b[0;34m(\u001b[0m\u001b[0mall_info\u001b[0m\u001b[0;34m,\u001b[0m \u001b[0mq\u001b[0m\u001b[0;34m,\u001b[0m \u001b[0mlo\u001b[0m\u001b[0;34m=\u001b[0m\u001b[0;36m0\u001b[0m\u001b[0;34m,\u001b[0m \u001b[0mhi\u001b[0m\u001b[0;34m=\u001b[0m\u001b[0mlen\u001b[0m\u001b[0;34m(\u001b[0m\u001b[0mall_info\u001b[0m\u001b[0;34m[\u001b[0m\u001b[0mq\u001b[0m\u001b[0;34m]\u001b[0m\u001b[0;34m)\u001b[0m\u001b[0;34m)\u001b[0m\u001b[0;34m)\u001b[0m\u001b[0;34m\u001b[0m\u001b[0;34m\u001b[0m\u001b[0m\n\u001b[0m",
      "\u001b[0;31mTypeError\u001b[0m: list indices must be integers or slices, not list"
     ]
    }
   ],
   "source": [
    "from bisect import bisect_left, bisect_right\n",
    "\n",
    "for q in query:\n",
    "    q =  sorted([item for item in q if item != '-'])\n",
    "    print(bisect_left(all_info, q, lo=0, hi=len(all_info[q])))"
   ]
  },
  {
   "cell_type": "code",
   "execution_count": 33,
   "metadata": {},
   "outputs": [
    {
     "output_type": "stream",
     "name": "stdout",
     "text": [
      "[1, 1, 1, 1, 2, 4]\n"
     ]
    }
   ],
   "source": [
    "info = [\"java backend junior pizza 150\",\n",
    "\"python frontend senior chicken 210\",\n",
    "\"python frontend senior chicken 150\",\n",
    "\"cpp backend senior pizza 260\",\n",
    "\"java backend junior chicken 80\",\n",
    "\"python backend senior chicken 50\"]\n",
    "\n",
    "query = [\"java and backend and junior and pizza 100\",\n",
    "\"python and frontend and senior and chicken 200\",\n",
    "\"cpp and - and senior and pizza 250\",\n",
    "\"- and backend and senior and - 150\",\n",
    "\"- and - and - and chicken 100\",\n",
    "\"- and - and - and - 150\"]\n",
    "\n",
    "\n",
    "from bisect import bisect_left\n",
    "from itertools import combinations\n",
    "\n",
    "def make_all_cases(separate_info):\n",
    "    cases = []\n",
    "    for k in range(5):\n",
    "        for condition in combinations([0,1,2,3], k):\n",
    "            case = []\n",
    "            for idx in range(4):\n",
    "                if idx not in condition:\n",
    "                    case.append(separate_info[idx])\n",
    "                else:\n",
    "                    case.append('-')\n",
    "            cases.append(''.join(case))\n",
    "    return cases\n",
    "\n",
    "def solution(info, query):\n",
    "    answer = []\n",
    "    all_people = {}\n",
    "    for i in info:\n",
    "        seperate_info = i.split()\n",
    "        cases = make_all_cases(seperate_info)\n",
    "        for case in cases:\n",
    "            if case not in all_people.keys():\n",
    "                all_people[case] = [int(seperate_info[4])]\n",
    "            else:\n",
    "                all_people[case].append(int(seperate_info[4]))\n",
    "    \n",
    "    for key in all_people.keys():\n",
    "        all_people[key].sort()\n",
    "        \n",
    "    for q in query:\n",
    "        seperate_q = q.split(' and ')\n",
    "        seperate_q.extend(seperate_q.pop().split())\n",
    "        target = ''\n",
    "        for sq in seperate_q[:4]:\n",
    "            target += sq\n",
    "\n",
    "        if target in all_people.keys():\n",
    "            answer.append(len(all_people[target]) - bisect_left(all_people[target], int(seperate_q[4]), lo=0, hi=len(all_people[target])))\n",
    "        else:\n",
    "            answer.append(0)\n",
    "\n",
    "        print(all_pe)\n",
    "    return answer\n",
    "\n",
    "print(solution(info, query))"
   ]
  },
  {
   "cell_type": "code",
   "execution_count": 35,
   "metadata": {},
   "outputs": [
    {
     "output_type": "error",
     "ename": "NameError",
     "evalue": "name 'all_people' is not defined",
     "traceback": [
      "\u001b[0;31m---------------------------------------------------------------------------\u001b[0m",
      "\u001b[0;31mNameError\u001b[0m                                 Traceback (most recent call last)",
      "\u001b[0;32m<ipython-input-35-1530ff21d76e>\u001b[0m in \u001b[0;36m<module>\u001b[0;34m\u001b[0m\n\u001b[0;32m----> 1\u001b[0;31m \u001b[0mall_people\u001b[0m\u001b[0;34m\u001b[0m\u001b[0;34m\u001b[0m\u001b[0m\n\u001b[0m",
      "\u001b[0;31mNameError\u001b[0m: name 'all_people' is not defined"
     ]
    }
   ],
   "source": [
    "all_people"
   ]
  },
  {
   "cell_type": "code",
   "execution_count": null,
   "metadata": {},
   "outputs": [],
   "source": []
  }
 ]
}