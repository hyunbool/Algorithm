{
 "cells": [
  {
   "cell_type": "code",
   "execution_count": 39,
   "id": "ed346dce",
   "metadata": {},
   "outputs": [],
   "source": [
    "info = [0,1,0,1,1,0,1,0,0,1,0]\n",
    "edges = [[0,1],[0,2],[1,3],[1,4],[2,5],[2,6],[3,7],[4,8],[6,9],[9,10]]"
   ]
  },
  {
   "cell_type": "code",
   "execution_count": 40,
   "id": "b654d098",
   "metadata": {},
   "outputs": [],
   "source": [
    "graph = {i: [] for i in range(len(info))}"
   ]
  },
  {
   "cell_type": "code",
   "execution_count": 41,
   "id": "5d3bcee6",
   "metadata": {},
   "outputs": [],
   "source": [
    "for edge in edges:\n",
    "    graph[edge[0]].append(edge[1])\n",
    "\n",
    "for key, value in graph.items():\n",
    "    graph[key] = sorted(list(set(value)))"
   ]
  },
  {
   "cell_type": "code",
   "execution_count": 42,
   "id": "1696fea5",
   "metadata": {
    "scrolled": true
   },
   "outputs": [
    {
     "data": {
      "text/plain": [
       "{0: [1, 2],\n",
       " 1: [3, 4],\n",
       " 2: [5, 6],\n",
       " 3: [7],\n",
       " 4: [8],\n",
       " 5: [],\n",
       " 6: [9],\n",
       " 7: [],\n",
       " 8: [],\n",
       " 9: [10],\n",
       " 10: []}"
      ]
     },
     "execution_count": 42,
     "metadata": {},
     "output_type": "execute_result"
    }
   ],
   "source": [
    "graph"
   ]
  },
  {
   "cell_type": "code",
   "execution_count": 44,
   "id": "9bf18150",
   "metadata": {},
   "outputs": [
    {
     "name": "stdout",
     "output_type": "stream",
     "text": [
      "4\n"
     ]
    }
   ],
   "source": [
    "for key, value in graph.items():\n",
    "    if 8 in value:\n",
    "        print(key)"
   ]
  },
  {
   "cell_type": "code",
   "execution_count": 74,
   "id": "0376498a",
   "metadata": {},
   "outputs": [
    {
     "name": "stdout",
     "output_type": "stream",
     "text": [
      "0\n",
      "[0]\n",
      "[2]\n",
      "=\n",
      "0\n",
      "[0, 2]\n",
      "[1, 3, 4, 5, 6]\n",
      "=\n",
      "0\n",
      "[0, 2, 1]\n",
      "[3, 4, 5, 6]\n",
      "=\n",
      "1\n",
      "[0, 2, 1]\n",
      "[4, 5, 6]\n",
      "=\n",
      "1\n",
      "[0, 2, 1]\n",
      "[5, 6]\n",
      "=\n",
      "2\n",
      "[0, 2, 1, 5]\n",
      "[3, 4, 6, 7, 8]\n",
      "=\n",
      "1\n",
      "[0, 2, 1, 5, 3]\n",
      "[8, 4, 6, 7]\n",
      "=\n",
      "4\n",
      "[0, 2, 1, 5, 3]\n",
      "[4, 6, 7]\n",
      "=\n",
      "1\n",
      "[0, 2, 1, 5, 3]\n",
      "[6, 7]\n",
      "=\n",
      "2\n",
      "[0, 2, 1, 5, 3]\n",
      "[7]\n",
      "=\n",
      "3\n",
      "[0, 2, 1, 5, 3, 7]\n",
      "[8, 9, 4, 6]\n",
      "=\n",
      "4\n",
      "[0, 2, 1, 5, 3, 7]\n",
      "[9, 4, 6]\n",
      "=\n",
      "6\n",
      "[0, 2, 1, 5, 3, 7]\n",
      "[4, 6]\n",
      "=\n",
      "1\n",
      "[0, 2, 1, 5, 3, 7, 4]\n",
      "[8, 9, 10, 6]\n",
      "=\n",
      "4\n",
      "[0, 2, 1, 5, 3, 7, 4, 8]\n",
      "[9, 10, 6]\n",
      "=\n",
      "6\n",
      "[0, 2, 1, 5, 3, 7, 4, 8]\n",
      "[10, 6]\n",
      "=\n",
      "9\n",
      "[0, 2, 1, 5, 3, 7, 4, 8]\n",
      "[6]\n",
      "=\n",
      "2\n",
      "[0, 2, 1, 5, 3, 7, 4, 8, 6]\n",
      "[9, 10]\n",
      "=\n",
      "6\n",
      "[0, 2, 1, 5, 3, 7, 4, 8, 6]\n",
      "[10]\n",
      "=\n",
      "9\n",
      "[0, 2, 1, 5, 3, 7, 4, 8, 6]\n",
      "[]\n",
      "=\n"
     ]
    }
   ],
   "source": [
    "graph = {i: [] for i in range(len(info))}\n",
    "for edge in edges:\n",
    "    graph[edge[0]].append(edge[1])\n",
    "\n",
    "for key, value in graph.items():\n",
    "    graph[key] = sorted(list(set(value)))\n",
    "\n",
    "discovered = [0]\n",
    "not_discovered = []\n",
    "sheep = 1\n",
    "wolf = 0\n",
    "stack = graph[0]\n",
    "\n",
    "while stack :\n",
    "    v = stack[0]\n",
    "    for key, value in graph.items():\n",
    "        if v in value:\n",
    "            head = key\n",
    "    print(head)\n",
    "    if v not in discovered :\n",
    "\n",
    "        if info[v] == 0:\n",
    "            sheep += 1\n",
    "        else:\n",
    "            wolf += 1\n",
    "\n",
    "        if (sheep > wolf) and (head in discovered):\n",
    "            discovered.append(v)\n",
    "            stack.remove(v)\n",
    "            \n",
    "            for w in graph[v] :\n",
    "                if (info[w] == 0) or (len(graph[w]) > 0):\n",
    "                    stack.append(w) # stack에는 탐색해야할 노드들을 추가한다.\n",
    "            \n",
    "            stack.extend(not_discovered)\n",
    "            not_discovered = []\n",
    "\n",
    "        else:\n",
    "            if info[v] == 0:\n",
    "                sheep -= 1\n",
    "            else:\n",
    "                wolf -= 1\n",
    "            stack.remove(v)\n",
    "            not_discovered.append(v)\n",
    "            \n",
    "            for w in graph[v] :\n",
    "                not_discovered.append(w) # stack에는 탐색해야할 노드들을 추가한다.\n",
    "\n",
    "\n",
    "\n",
    "\n",
    "           \n",
    "    stack = list(set(stack))\n",
    "    print(discovered)\n",
    "    print(stack)\n",
    "    print(\"=\")"
   ]
  },
  {
   "cell_type": "code",
   "execution_count": 75,
   "id": "bc4796e2",
   "metadata": {},
   "outputs": [
    {
     "data": {
      "text/plain": [
       "5"
      ]
     },
     "execution_count": 75,
     "metadata": {},
     "output_type": "execute_result"
    }
   ],
   "source": [
    "sheep"
   ]
  },
  {
   "cell_type": "code",
   "execution_count": null,
   "id": "3dce01f1",
   "metadata": {},
   "outputs": [],
   "source": []
  }
 ],
 "metadata": {
  "kernelspec": {
   "display_name": "Python 3",
   "language": "python",
   "name": "python3"
  },
  "language_info": {
   "codemirror_mode": {
    "name": "ipython",
    "version": 3
   },
   "file_extension": ".py",
   "mimetype": "text/x-python",
   "name": "python",
   "nbconvert_exporter": "python",
   "pygments_lexer": "ipython3",
   "version": "3.8.8"
  }
 },
 "nbformat": 4,
 "nbformat_minor": 5
}
