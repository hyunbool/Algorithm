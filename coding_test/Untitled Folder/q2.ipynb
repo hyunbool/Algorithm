{
 "cells": [
  {
   "cell_type": "code",
   "execution_count": 49,
   "id": "7520e011",
   "metadata": {},
   "outputs": [],
   "source": [
    "n = 110011\n",
    "k = 10"
   ]
  },
  {
   "cell_type": "code",
   "execution_count": 5,
   "id": "c80f09b2",
   "metadata": {},
   "outputs": [],
   "source": [
    "import re\n",
    "\n",
    "def digit(n, q):\n",
    "    rev_base = ''\n",
    "\n",
    "    while n > 0:\n",
    "        n, mod = divmod(n, q)\n",
    "        rev_base += str(mod)\n",
    "\n",
    "    return rev_base[::-1] "
   ]
  },
  {
   "cell_type": "code",
   "execution_count": null,
   "id": "59e4b1f6",
   "metadata": {},
   "outputs": [],
   "source": [
    "def solution(n, k):\n",
    "    num = digit(n, k)\n",
    "    \n",
    "    f = [n for n in num.split('0') if n != '']\n",
    "    f = [n for n in f if int(n) > 1]\n",
    "        \n",
    "    answer = len(f)\n",
    "    return answer"
   ]
  },
  {
   "cell_type": "code",
   "execution_count": 50,
   "id": "c70a96dc",
   "metadata": {},
   "outputs": [],
   "source": []
  },
  {
   "cell_type": "code",
   "execution_count": 58,
   "id": "8485e71c",
   "metadata": {},
   "outputs": [],
   "source": [
    "f = [n for n in num.split('0') if n != '']\n",
    "f = [n for n in f if int(n) > 1]"
   ]
  },
  {
   "cell_type": "code",
   "execution_count": 59,
   "id": "4f7c41be",
   "metadata": {},
   "outputs": [
    {
     "data": {
      "text/plain": [
       "['11', '11']"
      ]
     },
     "execution_count": 59,
     "metadata": {},
     "output_type": "execute_result"
    }
   ],
   "source": [
    "f"
   ]
  },
  {
   "cell_type": "code",
   "execution_count": 65,
   "id": "68369351",
   "metadata": {},
   "outputs": [],
   "source": [
    "n = 872395817035748957389\n",
    "k = 3"
   ]
  },
  {
   "cell_type": "code",
   "execution_count": 66,
   "id": "79a383fc",
   "metadata": {},
   "outputs": [],
   "source": [
    "num = digit(n, k)"
   ]
  },
  {
   "cell_type": "code",
   "execution_count": 67,
   "id": "e13ce41b",
   "metadata": {},
   "outputs": [
    {
     "name": "stdout",
     "output_type": "stream",
     "text": [
      "21222021022020102122121202201021100120211001\n"
     ]
    }
   ],
   "source": [
    "print(num)"
   ]
  },
  {
   "cell_type": "code",
   "execution_count": 76,
   "id": "90412b51",
   "metadata": {},
   "outputs": [],
   "source": [
    "f = [n for n in num.split('0') if n != '']\n",
    "f = [int(n) for n in f if int(n) > 1]"
   ]
  },
  {
   "cell_type": "code",
   "execution_count": 77,
   "id": "0c9f0bda",
   "metadata": {},
   "outputs": [],
   "source": [
    "maxnum = max(f)"
   ]
  },
  {
   "cell_type": "code",
   "execution_count": 78,
   "id": "ebed2da5",
   "metadata": {},
   "outputs": [],
   "source": [
    "import math\n",
    "\n",
    "# 소수 판별 함수(에라토스테네스의 체)\n",
    "def is_prime_number(n):\n",
    "    # 2부터 n까지의 모든 수에 대하여 소수 판별\n",
    "    array = [True for i in range(n+1)] # 처음엔 모든 수가 소수(True)인 것으로 초기화(0과 1은 제외)\n",
    "\n",
    "    # 에라토스테네스의 체\n",
    "    for i in range(2, int(math.sqrt(n)) + 1): #2부터 n의 제곱근까지의 모든 수를 확인하며\n",
    "        if array[i] == True: # i가 소수인 경우(남은 수인 경우)\n",
    "            # i를 제외한 i의 모든 배수를 지우기\n",
    "            j = 2\n",
    "            while i * j <= n:\n",
    "                array[i * j] = False\n",
    "                j += 1\n",
    "\n",
    "    return [ i for i in range(2, n+1) if array[i] ]"
   ]
  },
  {
   "cell_type": "code",
   "execution_count": 80,
   "id": "3fda9f0f",
   "metadata": {},
   "outputs": [],
   "source": [
    "primenum = is_prime_number(int(maxnum))"
   ]
  },
  {
   "cell_type": "code",
   "execution_count": 81,
   "id": "5f525605",
   "metadata": {},
   "outputs": [],
   "source": [
    "final = [n for n in f if n in primenum]"
   ]
  },
  {
   "cell_type": "code",
   "execution_count": 82,
   "id": "1e1cc97b",
   "metadata": {},
   "outputs": [
    {
     "data": {
      "text/plain": [
       "[21222, 21, 22, 2, 21221212, 22, 211, 12, 211]"
      ]
     },
     "execution_count": 82,
     "metadata": {},
     "output_type": "execute_result"
    }
   ],
   "source": [
    "f"
   ]
  },
  {
   "cell_type": "code",
   "execution_count": 83,
   "id": "182b4b23",
   "metadata": {},
   "outputs": [
    {
     "data": {
      "text/plain": [
       "[2, 211, 211]"
      ]
     },
     "execution_count": 83,
     "metadata": {},
     "output_type": "execute_result"
    }
   ],
   "source": [
    "final"
   ]
  },
  {
   "cell_type": "code",
   "execution_count": null,
   "id": "b856dcfd",
   "metadata": {},
   "outputs": [],
   "source": []
  }
 ],
 "metadata": {
  "kernelspec": {
   "display_name": "Python 3",
   "language": "python",
   "name": "python3"
  },
  "language_info": {
   "codemirror_mode": {
    "name": "ipython",
    "version": 3
   },
   "file_extension": ".py",
   "mimetype": "text/x-python",
   "name": "python",
   "nbconvert_exporter": "python",
   "pygments_lexer": "ipython3",
   "version": "3.8.8"
  }
 },
 "nbformat": 4,
 "nbformat_minor": 5
}
