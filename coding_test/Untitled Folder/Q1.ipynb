{
 "cells": [
  {
   "cell_type": "code",
   "execution_count": 42,
   "id": "09fad2e4",
   "metadata": {},
   "outputs": [],
   "source": [
    "id_list = [\"con\", \"ryan\"]\n",
    "report = [\"ryan con\", \"ryan con\", \"ryan con\", \"ryan con\"]\n",
    "k = 3"
   ]
  },
  {
   "cell_type": "code",
   "execution_count": 49,
   "id": "5850347a",
   "metadata": {},
   "outputs": [],
   "source": [
    "def solution(id_list, report, k):\n",
    "    answer = []\n",
    "\n",
    "    # 신고받은 명단(신고한 사람 - 신고 당한 사람)\n",
    "    alerted_list = [[] * (len(id_list)) for _ in range(len(id_list))]  \n",
    "    \n",
    "    for r in report:\n",
    "        x, y = r.split(\" \")\n",
    "        index = id_list.index(x)\n",
    "        alerted_list[index].append(y)\n",
    "    \n",
    "    alerted = list()\n",
    "    for a in alerted_list:\n",
    "        a = list(set(a))\n",
    "        alerted.append(a)\n",
    "    \n",
    "    print(a)\n",
    "    alerted_whole = sum(alerted, [])\n",
    "    count_alerted = {i:0 for i in id_list}\n",
    "    for a in alerted_whole:\n",
    "        count_alerted[a] += 1\n",
    "    \n",
    "    for a in alerted:\n",
    "        count = 0\n",
    "        for i in a:\n",
    "            if count_alerted[i] >= k:\n",
    "                count+=1\n",
    "        answer.append(count)\n",
    "            \n",
    "    return answer"
   ]
  },
  {
   "cell_type": "code",
   "execution_count": 50,
   "id": "fa06a8ad",
   "metadata": {},
   "outputs": [
    {
     "name": "stdout",
     "output_type": "stream",
     "text": [
      "['con']\n"
     ]
    },
    {
     "data": {
      "text/plain": [
       "[0, 0]"
      ]
     },
     "execution_count": 50,
     "metadata": {},
     "output_type": "execute_result"
    }
   ],
   "source": [
    "solution(id_list, report, k)"
   ]
  },
  {
   "cell_type": "code",
   "execution_count": null,
   "id": "601d1555",
   "metadata": {},
   "outputs": [],
   "source": []
  }
 ],
 "metadata": {
  "kernelspec": {
   "display_name": "Python 3",
   "language": "python",
   "name": "python3"
  },
  "language_info": {
   "codemirror_mode": {
    "name": "ipython",
    "version": 3
   },
   "file_extension": ".py",
   "mimetype": "text/x-python",
   "name": "python",
   "nbconvert_exporter": "python",
   "pygments_lexer": "ipython3",
   "version": "3.8.8"
  }
 },
 "nbformat": 4,
 "nbformat_minor": 5
}
