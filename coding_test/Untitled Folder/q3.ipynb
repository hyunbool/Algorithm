{
 "cells": [
  {
   "cell_type": "code",
   "execution_count": 55,
   "id": "8c473415",
   "metadata": {},
   "outputs": [],
   "source": [
    "fees = [1, 461, 1, 10]\n",
    "records = [\"00:00 1234 IN\"]\n"
   ]
  },
  {
   "cell_type": "code",
   "execution_count": 2,
   "id": "9514957a",
   "metadata": {},
   "outputs": [],
   "source": [
    "import math\n",
    "\n",
    "def solution(fees, records):\n",
    "    records_list = [n.split(\" \") for n in records]\n",
    "    car_list = sorted(list(set([n[1] for n in records_list])))\n",
    "\n",
    "    time_record = [[] * (len(car_list)) for _ in range(len(car_list))]  # 인덱스: 차량번호\n",
    "\n",
    "    for r in records_list:\n",
    "        index = car_list.index(r[1])\n",
    "        h, m = r[0].split(\":\")\n",
    "        time_record[index].append((60*int(h))+int(m))\n",
    "\n",
    "    whole_time = list()\n",
    "    for times in time_record:\n",
    "        if len(times) % 2 == 1:\n",
    "            times.append((60*23)+59)\n",
    "        inandout = int(len(times) / 2)\n",
    "        time = 0\n",
    "\n",
    "        for i in range(inandout):\n",
    "            time += (times[2*i+1] - times[2*i])\n",
    "        whole_time.append(time)\n",
    "\n",
    "    answer = []\n",
    "    for time in whole_time:\n",
    "        if time <= fees[0]:\n",
    "            answer.append(fees[1])\n",
    "        else:\n",
    "            answer.append(fees[1] + (math.ceil((time - fees[0]) / 10)) * fees[3])\n",
    "    return answer"
   ]
  },
  {
   "cell_type": "code",
   "execution_count": 60,
   "id": "7b621709",
   "metadata": {},
   "outputs": [],
   "source": [
    "import math\n",
    "\n",
    "records_list = [n.split(\" \") for n in records]\n",
    "car_list = sorted(list(set([n[1] for n in records_list])))\n",
    "\n",
    "time_record = [[] * (len(car_list)) for _ in range(len(car_list))]  # 인덱스: 차량번호\n",
    "\n",
    "for r in records_list:\n",
    "    index = car_list.index(r[1])\n",
    "    h, m = r[0].split(\":\")\n",
    "    time_record[index].append((60*int(h))+int(m))\n",
    "\n",
    "whole_time = list()\n",
    "for times in time_record:\n",
    "    if len(times) % 2 == 1:\n",
    "        times.append((60*23)+59)\n",
    "    inandout = int(len(times) / 2)\n",
    "    time = 0\n",
    "\n",
    "    for i in range(inandout):\n",
    "        time += (times[2*i+1] - times[2*i])\n",
    "    whole_time.append(time)\n",
    "\n",
    "answer = []\n",
    "for time in whole_time:\n",
    "    if time <= fees[0]:\n",
    "        answer.append(fees[1])\n",
    "    else:\n",
    "        answer.append(fees[1] + (math.ceil((time - fees[0]) / fees[2])) * fees[3])"
   ]
  },
  {
   "cell_type": "code",
   "execution_count": 57,
   "id": "12d0bdc3",
   "metadata": {},
   "outputs": [
    {
     "data": {
      "text/plain": [
       "[['00:00', '1234', 'IN']]"
      ]
     },
     "execution_count": 57,
     "metadata": {},
     "output_type": "execute_result"
    }
   ],
   "source": [
    "records_list"
   ]
  },
  {
   "cell_type": "code",
   "execution_count": 58,
   "id": "3d257704",
   "metadata": {},
   "outputs": [
    {
     "data": {
      "text/plain": [
       "['1234']"
      ]
     },
     "execution_count": 58,
     "metadata": {},
     "output_type": "execute_result"
    }
   ],
   "source": [
    "car_list"
   ]
  },
  {
   "cell_type": "code",
   "execution_count": 59,
   "id": "e88cd174",
   "metadata": {},
   "outputs": [
    {
     "data": {
      "text/plain": [
       "[1439]"
      ]
     },
     "execution_count": 59,
     "metadata": {},
     "output_type": "execute_result"
    }
   ],
   "source": [
    "whole_time"
   ]
  },
  {
   "cell_type": "code",
   "execution_count": 61,
   "id": "592b2eb3",
   "metadata": {},
   "outputs": [
    {
     "data": {
      "text/plain": [
       "[14841]"
      ]
     },
     "execution_count": 61,
     "metadata": {},
     "output_type": "execute_result"
    }
   ],
   "source": [
    "answer"
   ]
  },
  {
   "cell_type": "code",
   "execution_count": null,
   "id": "1312c4ea",
   "metadata": {},
   "outputs": [],
   "source": []
  }
 ],
 "metadata": {
  "kernelspec": {
   "display_name": "Python 3",
   "language": "python",
   "name": "python3"
  },
  "language_info": {
   "codemirror_mode": {
    "name": "ipython",
    "version": 3
   },
   "file_extension": ".py",
   "mimetype": "text/x-python",
   "name": "python",
   "nbconvert_exporter": "python",
   "pygments_lexer": "ipython3",
   "version": "3.8.8"
  }
 },
 "nbformat": 4,
 "nbformat_minor": 5
}
