{
 "metadata": {
  "language_info": {
   "codemirror_mode": {
    "name": "ipython",
    "version": 3
   },
   "file_extension": ".py",
   "mimetype": "text/x-python",
   "name": "python",
   "nbconvert_exporter": "python",
   "pygments_lexer": "ipython3",
   "version": "3.7.4"
  },
  "orig_nbformat": 2,
  "kernelspec": {
   "name": "python374jvsc74a57bd0dca0ade3e726a953b501b15e8e990130d2b7799f14cfd9f4271676035ebe5511",
   "display_name": "Python 3.7.4 64-bit ('anaconda3': virtualenv)"
  }
 },
 "nbformat": 4,
 "nbformat_minor": 2,
 "cells": [
  {
   "cell_type": "code",
   "execution_count": 77,
   "metadata": {},
   "outputs": [],
   "source": [
    "INF = int(1e9) # 무한을 의미하는 값으로 10억을 설정\n",
    "n = 6\n",
    "s = 4\n",
    "a = 6\n",
    "b = 2\n",
    "\n",
    "# 2차원 리스트(그래프 표현)를 만들고, 모든 값을 무한으로 초기화\n",
    "graph = [[INF] * (n + 1) for _ in range(n + 1)]\n",
    "\n",
    "fares = [[4, 1, 10], [3, 5, 24], [5, 6, 2], [3, 1, 41], [5, 1, 24], [4, 6, 50], [2, 4, 66], [2, 3, 22], [1, 6, 25]]\n",
    "\n",
    "# 자기 자신에서 자기 자신으로 가는 비용은 0으로 초기화\n",
    "for x in range(1, n + 1):\n",
    "    graph[x][x] = 0\n",
    "\n",
    "# 각 간선에 대한 정보를 입력 받아, 그 값으로 초기화\n",
    "for x, y, c in fares:\n",
    "    graph[x][y] = c\n",
    "    graph[y][x] = c\n",
    "\n",
    "# 점화식에 따라 플로이드 워셜 알고리즘을 수행\n",
    "for k in range(1, n + 1):\n",
    "    for x in range(1, n + 1):\n",
    "        for y in range(1, n + 1):\n",
    "            graph[x][y] = min(graph[x][y], graph[x][k] + graph[k][y])\n",
    "\n",
    "\n",
    "answer = INF\n",
    "for k in range(2, n+1):\n",
    "    answer = min(answer, graph[s][k] + graph[k][a] + graph[k][b])\n",
    "    \n",
    "        \n",
    "\n",
    "\n"
   ]
  },
  {
   "cell_type": "code",
   "execution_count": 78,
   "metadata": {},
   "outputs": [
    {
     "output_type": "execute_result",
     "data": {
      "text/plain": [
       "82"
      ]
     },
     "metadata": {},
     "execution_count": 78
    }
   ],
   "source": [
    "answer"
   ]
  },
  {
   "cell_type": "code",
   "execution_count": null,
   "metadata": {},
   "outputs": [],
   "source": [
    "def solution(n, s, a, b, fares):\n",
    "\n",
    "    # 2차원 리스트(그래프 표현)를 만들고, 모든 값을 무한으로 초기화\n",
    "    INF = int(1e9) \n",
    "    graph = [[INF] * (n + 1) for _ in range(n + 1)]\n",
    "    \n",
    "    # 자기 자신에서 자기 자신으로 가는 비용은 0으로 초기화\n",
    "    for x in range(1, n + 1):\n",
    "        for y in range(1, n + 1):\n",
    "            if x == y:\n",
    "                graph[x][y] = 0\n",
    "\n",
    "    # 각 간선에 대한 정보를 입력 받아, 그 값으로 초기화\n",
    "    for i in fares:\n",
    "        # A에서 B로 가는 비용은 C라고 설정\n",
    "        x, y, c = i\n",
    "        graph[x][y] = c\n",
    "        graph[y][x] = c\n",
    "\n",
    "    # 점화식에 따라 플로이드 워셜 알고리즘을 수행\n",
    "    for k in range(1, n + 1):\n",
    "        for x in range(1, n + 1):\n",
    "            for y in range(1, n + 1):\n",
    "                graph[x][y] = min(graph[x][y], graph[x][k] + graph[k][y])\n",
    "\n",
    "\n",
    "    answer = graph[s][1] + graph[1][a] + graph[1][b]\n",
    "    for k in range(2, n+1):\n",
    "        answer = min(answer, graph[s][k] + graph[k][a] + graph[k][b])\n",
    "\n",
    "\n",
    "    return answer"
   ]
  }
 ]
}