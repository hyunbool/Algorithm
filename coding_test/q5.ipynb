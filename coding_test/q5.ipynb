{
 "metadata": {
  "language_info": {
   "codemirror_mode": {
    "name": "ipython",
    "version": 3
   },
   "file_extension": ".py",
   "mimetype": "text/x-python",
   "name": "python",
   "nbconvert_exporter": "python",
   "pygments_lexer": "ipython3",
   "version": "3.7.4"
  },
  "orig_nbformat": 2,
  "kernelspec": {
   "name": "python374jvsc74a57bd0dca0ade3e726a953b501b15e8e990130d2b7799f14cfd9f4271676035ebe5511",
   "display_name": "Python 3.7.4 64-bit ('anaconda3': virtualenv)"
  }
 },
 "nbformat": 4,
 "nbformat_minor": 2,
 "cells": [
  {
   "cell_type": "code",
   "execution_count": 90,
   "metadata": {
    "tags": []
   },
   "outputs": [],
   "source": [
    "# 시간을 초로 변환해 저장\n",
    "play_time = \"99:59:59\"\n",
    "adv_time = \"25:00:00\"\n",
    "logs = [\"69:59:59-89:59:59\", \"01:00:00-21:00:00\", \"79:59:59-99:59:59\", \"11:00:00-31:00:00\"]\n",
    "\n",
    "logs_start_sec = list()\n",
    "logs_end_sec = list()\n",
    "\n",
    "# log 시간 초로 변환\n",
    "for log in logs:\n",
    "    times = log.split(\"-\")\n",
    "    \n",
    "    start = list(map(lambda x: int(x), times[0].split(\":\")))\n",
    "    end = list(map(lambda x: int(x), times[1].split(\":\")))\n",
    "\n",
    "    logs_start_sec.append(3600 * start[0] + 60 * start[1] + start[2])\n",
    "    logs_end_sec.append(3600 * end[0] + 60 * end[1] + end[2])\n",
    "\n",
    "# play_time 변환\n",
    "play_time_sec = list(map(lambda x: int(x), play_time.split(\":\")))\n",
    "play_time_sec = 3600 * play_time_sec[0] + 60 * play_time_sec[1] + play_time_sec[2]\n",
    "\n",
    "# adv_time 변환\n",
    "adv_time_sec = list(map(lambda x: int(x), adv_time.split(\":\")))\n",
    "adv_time_sec = 3600 * adv_time_sec[0] + 60 * adv_time_sec[1] + adv_time_sec[2]\n",
    "\n",
    "total_time = [0 for _ in range(400000)]\n",
    "\n",
    "# 구간별 누적합\n",
    "for i in range(len(logs)):\n",
    "    total_time[logs_start_sec[i]] += 1\n",
    "    total_time[logs_end_sec[i]] -= 1\n",
    "\n",
    "# 구간별 재생 횟수\n",
    "for i in range(1, play_time_sec):\n",
    "    total_time[i] = total_time[i] + total_time[i - 1]\n",
    "\n",
    "# 구간별 재생횟수의 누적합\n",
    "for i in range(1, play_time_sec):\n",
    "    total_time[i] = total_time[i] + total_time[i - 1]\n",
    "\n",
    "# 시작 지점부터 play_time까지 누적합의 최댓값을 리턴하는 시간을 찾는다.\n",
    "max_time = 0\n",
    "max_played = total_time[adv_time_sec]\n",
    "\n",
    "for start_time in range(1, play_time_sec):\n",
    "    end_time = start_time + adv_time_sec if start_time + adv_time_sec < play_time_sec else play_time_sec\n",
    "    sum_played = total_time[end_time] - total_time[start_time]\n",
    "    if max_played < sum_played:\n",
    "        max_played = sum_played\n",
    "        max_time = start_time + 1\n",
    "\n",
    "hour = max_time // 3600\n",
    "min = (max_time - hour * 3600) // 60\n",
    "sec = (max_time - hour * 3600 - min * 60) \n",
    "result  = \"{:02d}:{:02d}:{:02d}\".format(hour, min, sec)\n",
    "\n"
   ]
  },
  {
   "cell_type": "code",
   "execution_count": 91,
   "metadata": {},
   "outputs": [
    {
     "output_type": "execute_result",
     "data": {
      "text/plain": [
       "'01:00:00'"
      ]
     },
     "metadata": {},
     "execution_count": 91
    }
   ],
   "source": [
    "result"
   ]
  },
  {
   "cell_type": "code",
   "execution_count": 92,
   "metadata": {},
   "outputs": [
    {
     "output_type": "execute_result",
     "data": {
      "text/plain": [
       "90000"
      ]
     },
     "metadata": {},
     "execution_count": 92
    }
   ],
   "source": [
    "adv_time_sec"
   ]
  },
  {
   "cell_type": "code",
   "execution_count": null,
   "metadata": {},
   "outputs": [],
   "source": []
  }
 ]
}