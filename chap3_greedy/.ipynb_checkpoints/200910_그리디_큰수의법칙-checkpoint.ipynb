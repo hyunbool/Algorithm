{
 "cells": [
  {
   "cell_type": "markdown",
   "metadata": {},
   "source": [
    "# 2. 큰 수의 법칙\n",
    "* 큰 수의 법칙: 다양한 수로 이뤄진 배열이 있을 때, 주어진 수들을 N번 더해 가장 큰 수를 만드는 법칙\n",
    "    * 단, 배열의 특정 인덱스에 해당하는 수가 연속해서 K번 초과해 더해질 수 없음\n",
    "    * eg1) [2, 4, 5, 4, 6] M=8, K=3 / 6+6+6+5+6+6+6+5=46\n",
    "    * eg2) [3, 4, 3, 4, 3] M=7, K=2 / 4+4+4+4+4+4+4+4=28"
   ]
  },
  {
   "cell_type": "markdown",
   "metadata": {},
   "source": [
    "## 문제: 배열의 크기 N, 숫자가 더해지는 횟수 M, 그리고 K가 주어질 때 큰 수의 법칙에 따른 결과를 출력하시오.\n",
    "* 첫째 줄에 N(2<=N<=1,000), M(1<=M<=10,000), K(1<=K<=10,000)의 자연수가 주어지며, 각 자연수는 공백으로 구분한다.\n",
    "* 둘째 줄에 N개의 자연수가 주어진다. 각 자연수는 공백으로 구분하며, 각각의 자연수는 1 이상 10,000 이하의 수로 주어진다.\n",
    "* 이때 입력으로 주어지는 K는 항상 M보다 작거나 같다"
   ]
  },
  {
   "cell_type": "code",
   "execution_count": 16,
   "metadata": {},
   "outputs": [],
   "source": [
    "def q2():\n",
    "    # map 함수: 문자열 int로 바꿀 때 사용하면 한번에 바꿀 수 있음\n",
    "    n, m, k = map(int, input().split())\n",
    "    nlist = list(map(int, input().split()))\n",
    "    \n",
    "    \"\"\"\n",
    "    maxnum = nlist[0]\n",
    "    for i in nlist:\n",
    "        if maxnum < i:\n",
    "            maxnum = i\n",
    "    nlist.remove(maxnum)  \n",
    "    \n",
    "    nextmaxnum = nlist[0]\n",
    "    for j in nlist:\n",
    "        if nextmaxnum < j:\n",
    "            nextmaxnum = j\n",
    "    \"\"\"\n",
    "    nlist = sorted(nlist)\n",
    "    maxnum = nlist[-1]\n",
    "    nextmaxnum = nlist[-2]\n",
    "    \n",
    "    divnum = m // (k+1)\n",
    "    modnum = m % (k+1)\n",
    "    \n",
    "    ans = divnum * ((maxnum * k) + nextmaxnum) + (maxnum * modnum)\n",
    "    \n",
    "    return ans"
   ]
  },
  {
   "cell_type": "code",
   "execution_count": 18,
   "metadata": {},
   "outputs": [
    {
     "name": "stdout",
     "output_type": "stream",
     "text": [
      "5 5 3\n",
      "1 2 3 4 5\n"
     ]
    },
    {
     "data": {
      "text/plain": [
       "24"
      ]
     },
     "execution_count": 18,
     "metadata": {},
     "output_type": "execute_result"
    }
   ],
   "source": [
    "q2()"
   ]
  },
  {
   "cell_type": "code",
   "execution_count": null,
   "metadata": {},
   "outputs": [],
   "source": []
  }
 ],
 "metadata": {
  "kernelspec": {
   "display_name": "Python 3",
   "language": "python",
   "name": "python3"
  },
  "language_info": {
   "codemirror_mode": {
    "name": "ipython",
    "version": 3
   },
   "file_extension": ".py",
   "mimetype": "text/x-python",
   "name": "python",
   "nbconvert_exporter": "python",
   "pygments_lexer": "ipython3",
   "version": "3.7.4"
  }
 },
 "nbformat": 4,
 "nbformat_minor": 2
}
