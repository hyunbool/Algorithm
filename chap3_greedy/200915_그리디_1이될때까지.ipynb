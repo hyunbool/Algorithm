{
 "cells": [
  {
   "cell_type": "markdown",
   "metadata": {},
   "source": [
    "# 4. 1이 될 때 까지\n",
    "* 어떤 수 N이 1이 될 때 까지 다음의 두 과정 중 하나를 반복적으로 선택해 수행하려 한다(단, 두 번째 연산은 N이 K로 나누어 떨어질 때만 선택할 수 있다.)\n",
    "    1) N에서 1을 뺀다.\n",
    "    2) N을 K로 나눈다.\n",
    "eg) N = 17, K = 4 / 1단계: 1번 과정 한번 수행 -> N = 16 / 이후: 2번 과정 두번 수행 -> N = 1\n",
    "\n",
    "## Q. N과 K가 주어질 때 N이 1이 될 때 까지 1번 혹은 2번의 과정을 수행해야 하는 최소 횟수를 구하는 프로그램을 작성하시오\n",
    "### 입력 조건\n",
    "첫째 줄에 N(2<= N <= 100,000)과 K(2<=K<=100,000)가 공백으로 구분되며 각각 자연수로 주어진다(N >= K)\n",
    "### 출력 조건\n",
    "첫째 줄에 N이 1이 될 때까지 1번 혹은 2번의 과정을 수행해야 하는 횟수의 최솟값을 출력한다."
   ]
  },
  {
   "cell_type": "code",
   "execution_count": 8,
   "metadata": {},
   "outputs": [],
   "source": [
    "def q4():\n",
    "    N, K = map(int, input().split())\n",
    "    cnt = 0\n",
    "    \n",
    "    while N > 2:\n",
    "        if N % K == 0:\n",
    "            N /= K\n",
    "        else:\n",
    "            N -= 1\n",
    "        cnt += 1\n",
    "    \n",
    "    print(cnt)"
   ]
  },
  {
   "cell_type": "code",
   "execution_count": 9,
   "metadata": {},
   "outputs": [
    {
     "name": "stdout",
     "output_type": "stream",
     "text": [
      "1000 3\n",
      "9\n"
     ]
    }
   ],
   "source": [
    "q4()"
   ]
  },
  {
   "cell_type": "code",
   "execution_count": null,
   "metadata": {},
   "outputs": [],
   "source": []
  }
 ],
 "metadata": {
  "kernelspec": {
   "display_name": "Python 3",
   "language": "python",
   "name": "python3"
  },
  "language_info": {
   "codemirror_mode": {
    "name": "ipython",
    "version": 3
   },
   "file_extension": ".py",
   "mimetype": "text/x-python",
   "name": "python",
   "nbconvert_exporter": "python",
   "pygments_lexer": "ipython3",
   "version": "3.7.4"
  }
 },
 "nbformat": 4,
 "nbformat_minor": 2
}
