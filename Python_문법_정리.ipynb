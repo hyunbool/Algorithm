{
 "cells": [
  {
   "cell_type": "markdown",
   "metadata": {},
   "source": [
    "# 파이썬 문법 정리🤦‍♀️\n",
    "\n",
    "헷갈리거나 알아둘 필요가 있는 문법 정리\n",
    "\n",
    "## 1) 자료형\n",
    "### 1. 수 자료형\n",
    "#### 실수형 자료형\n",
    "* 지수 표현 방식:\n",
    "    * e 다음에 오는 수는 10의 지수부\n",
    "    * 유효숫자 * e^(지수) = 유효숫자 * 10^(지수)\n",
    "* 소수점:\n",
    "    * **round(n, m)**: 반올림 함수, n을 소수점 m자리까지 남기고 반올림\n",
    "        * eg) round(123.456, 2) -> 123.46\n",
    "#### 연산:\n",
    "    * 나누기: a / b\n",
    "    * 나머지: a % b\n",
    "    * 몫: a // b\n",
    "    * 거듭제곱: a ** b"
   ]
  },
  {
   "cell_type": "markdown",
   "metadata": {},
   "source": [
    "### 2. 리스트 자료형\n",
    "#### 리스트 만들기\n",
    "* N차원의 1차원 리스트 초기화: [0] * n = [0, 0, 0, ....]\n",
    "\n",
    "#### 슬라이싱\n",
    "* a = [1, 2, 3, 4, 5, 6, 7]일 때, 두번째 원소부터 네번째 원소까지\n",
    "    * a[1:4] = [2, 3, 4]\n",
    "    \n",
    "#### 리스트 컴프리헨션\n",
    "* 리스트를 초기화하는 방법 중 하나\n",
    "* eg1) 0부터 19까지의 수 중에서 홀수만 포함하는 리스트\n",
    "    * array = [i for i in range(20) if i % 2 == 1] / [1, 3, 5, 7, 9, 11, 13, 15, 17, 19]\n",
    "* eg2) 1부터 9까지의 수의 제곱값을 포함하는 리스트\n",
    "    * array = [i * i for i in range(10)] / [1, 4, 9, 16, 25, ..., 81]\n",
    "        * range(9)하면 8까지 연산, 즉 range(i) -> i-1까지 연산\n",
    "* eg3) 2차원 리스트 초기화\n",
    "    * array = [[0] * m for _ in range(n)]\n",
    "    \n",
    "#### 기타 메서드\n",
    "* append(): 맨 뒤에 삽입\n",
    "* sort(): 오름차순 정렬\n",
    "    * reverse=True: 내림차순\n",
    "* reverse(): 리스트 원소 순서 뒤집기\n",
    "* insert(index, value): 리스트의 특정한 인덱스에 원소 삽입\n",
    "* count(value): 리스트에서 특정 값 가지는 데이터 개수 세기\n",
    "* remove(value): 특정 값 원소 제거, 이때 같은 값의 원소가 여러개면 **한개만 제거**\n",
    "    * 특정한 값의 원소 모두 제거:\n",
    "        * remove_set = {a, b, c, ...}\n",
    "        * result = [i for i in array if i not in remove_set]"
   ]
  },
  {
   "cell_type": "markdown",
   "metadata": {},
   "source": [
    "### 3. 튜플 자료형\n",
    "* 리스트와의 차이점:\n",
    "    1) 한번 선언된 값을 변경할 수 없다.\n",
    "    2) 리스트는 [], 튜플은 ()\n",
    "* 그래프 알고리즘 구현시 자주 사용\n",
    "    * eg) 다익스트라 최단 경로 알고리즘과 같이 최단 경로 찾아주는 알고리즘\n",
    "        * 우선순위 큐를 이용\n",
    "        * 해당 알고리즘에서 우선순위 큐에 한 번 들어간 값은 변경되지 않음!"
   ]
  },
  {
   "cell_type": "markdown",
   "metadata": {},
   "source": [
    "### 4. 사전(Dictionary) 자료형\n",
    "* 파이썬의 Dictionary형: **해시테이블** 이용\n",
    "    * 따라서 데이터 검색 및 수정에 있어서 O(1)의 시간에 처리 가능!\n",
    "* 특정한 원소가 있는지 검사: '원소(key) in dict'\n",
    "* 함수:\n",
    "    * keys(): 키 데이터만 뽑아서 리스트로 이용\n",
    "    * values(): 값 데이터만 뽑아서 리스트로 이용"
   ]
  },
  {
   "cell_type": "markdown",
   "metadata": {},
   "source": [
    "### 5. 집합 자료형\n",
    "* 집합의 특징:\n",
    "    1) 중복을 허용하지 않음\n",
    "    2) 순서가 없음 => 인덱싱으로 값을 얻을 수 없음\n",
    "* {}로 선언\n",
    "* 연산:\n",
    "    * 합집합: a | b\n",
    "    * 교집합: a & b\n",
    "    * 차집합: a - b\n",
    "* 함수:\n",
    "    * add(value): 맨 뒤에 원소 추가\n",
    "    * update([val1, val2, ...]): 새로운 원소 여러개 추가\n",
    "    * remove()v: 원소 삭제"
   ]
  },
  {
   "cell_type": "code",
   "execution_count": null,
   "metadata": {},
   "outputs": [],
   "source": []
  }
 ],
 "metadata": {
  "kernelspec": {
   "display_name": "Python 3",
   "language": "python",
   "name": "python3"
  },
  "language_info": {
   "codemirror_mode": {
    "name": "ipython",
    "version": 3
   },
   "file_extension": ".py",
   "mimetype": "text/x-python",
   "name": "python",
   "nbconvert_exporter": "python",
   "pygments_lexer": "ipython3",
   "version": "3.7.4"
  }
 },
 "nbformat": 4,
 "nbformat_minor": 2
}
