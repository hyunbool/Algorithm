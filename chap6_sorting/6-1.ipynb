{
 "cells": [
  {
   "cell_type": "markdown",
   "id": "00aac671",
   "metadata": {},
   "source": [
    "# 1. 기준에 따라 데이터를 정렬\n",
    "## 개요\n",
    "* 정렬: 데이터를 특정한 기준에 따라 순서대로 나열\n",
    "    * 정렬 알고리즘으로 데이터를 정렬 시 이진 탐색이 가능해짐(즉 정렬은 이진 탐색의 전처리)\n",
    "* 종류: 선택정렬, 삽입정렬, 퀵정렬, 계수정렬\n",
    "\n",
    "## 선택 정렬\n",
    "* 매번 가장 작은 것을 선택해 정렬\n",
    "* 데이터가 N개일 때, 가장 작은 데이터를 앞으로 보내는 과정을 N-1번 반복하면 정렬이 완료\n",
    "* 시간 복잡도: \n",
    "    * N-1만큼 가장 작은 수를 찾아 맨 앞으로 보냄\n",
    "    * N + (N-1) + (N-2) + ... + 2 만큼 비교 연산을 수행하므로 근사치로 N*(N+1)/2 만큼 연산을 수행 => O(N^2)"
   ]
  },
  {
   "cell_type": "code",
   "execution_count": 1,
   "id": "6f11eb9f",
   "metadata": {},
   "outputs": [
    {
     "name": "stdout",
     "output_type": "stream",
     "text": [
      "[0, 1, 2, 3, 4, 5, 6, 7, 8, 9]\n"
     ]
    }
   ],
   "source": [
    "# 선택 정렬\n",
    "array = [7, 5, 9, 0, 3, 1, 6, 2, 4, 8]\n",
    "\n",
    "for i in range(len(array)):\n",
    "    min_index = i\n",
    "    for j in range(i+1, len(array)):\n",
    "        if array[min_index] > array[j]:\n",
    "            min_index=j\n",
    "    array[i], array[min_index] = array[min_index], array[i]\n",
    "    \n",
    "print(array)"
   ]
  },
  {
   "cell_type": "markdown",
   "id": "acd8545c",
   "metadata": {},
   "source": [
    "## 삽입 정렬\n",
    "* 데이터를 하나씩 확인하며 각 데이터를 적절한 위치에 삽입\n",
    "    * 데이터가 거의 정렬되어있을 때 효율적\n"
   ]
  },
  {
   "cell_type": "code",
   "execution_count": 4,
   "id": "4ec20012",
   "metadata": {},
   "outputs": [
    {
     "name": "stdout",
     "output_type": "stream",
     "text": [
      "[9, 8, 7, 6, 5, 4, 3, 2, 1, 0]\n"
     ]
    }
   ],
   "source": [
    "# 삽입 정렬\n",
    "array = [7, 5, 9, 0, 3, 1, 6, 2, 4, 8]\n",
    "\n",
    "for i in range(1, len(array)):\n",
    "    for j in range(i, 0, -1):\n",
    "        if array[j] > array[j-1]:\n",
    "            array[j], array[j-1] = array[j-1], array[j]\n",
    "        else:\n",
    "            break\n",
    "    \n",
    "    \n",
    "print(array)"
   ]
  },
  {
   "cell_type": "markdown",
   "id": "0dbd05ec",
   "metadata": {},
   "source": [
    "## 퀵 정렬\n",
    "* 가장 자주 사용되는 알고리즘\n",
    "* 기준을 설정한 다음 큰 수와 작은 수를 교환한 후 리스트를 반으로 나누는 방식으로 동작\n",
    "    * 피벗을 사용: 큰 숫자와 작은 숫자를 교환할 때 교환하기 위한 기준\n",
    "        * 리스트의 첫번째 데이터를 피벗으로 정한다.\n",
    "            * 왼쪽에서부터 피벗보다 큰 데이터를 찾고\n",
    "            * 오른쪽에서부터 피벗보다 작은 데이터를 찾아서\n",
    "            * 큰 데이터와 작은 데이터의 위치를 서로 교환\n",
    "* 시간 복잡도:\n",
    "    * 평균: O(nlogn)\n",
    "    * 최악: O(N^2) \n",
    "* 파이썬의 기본 정렬 알고리즘도 퀵정렬"
   ]
  },
  {
   "cell_type": "code",
   "execution_count": 15,
   "id": "ed5c2a4b",
   "metadata": {},
   "outputs": [
    {
     "name": "stdout",
     "output_type": "stream",
     "text": [
      "[0, 1, 2, 3, 4, 5, 6, 7, 8, 9]\n"
     ]
    }
   ],
   "source": [
    "# 퀵 정렬\n",
    "array = [7, 5, 9, 0, 3, 1, 6, 2, 4, 8]\n",
    "\n",
    "def quick_sort(array, start, end):\n",
    "    if start >= end:\n",
    "        return \n",
    "    pivot = start\n",
    "    left = start + 1\n",
    "    right  = end\n",
    "    \n",
    "    while (left <= right):\n",
    "        # 피벗보다 큰 데이터를 찾을때까지 반복\n",
    "        while (left <= end and array[left] <= array[pivot]):\n",
    "            left += 1\n",
    "        # 피벗보다 작은 데이터를 찾을때까지 반복\n",
    "        while (right > start and array[right] >= array[pivot]):\n",
    "            right -= 1  \n",
    "        # 엇갈렸다면 작은 데이터와 피벗을 교체\n",
    "        if left > right:\n",
    "            array[pivot], array[right] = array[right], array[pivot]\n",
    "        # 엇갈리지 않았다면 작은 데이터와 큰 데이터를 교체\n",
    "        else:\n",
    "            array[left], array[right] = array[right], array[left]\n",
    "    \n",
    "    # 분할 후 왼쪽과 오른쪽 부분에서 각각 정렬 수행\n",
    "    quick_sort(array, start, right-1)\n",
    "    quick_sort(array, right+1, end)\n",
    "    \n",
    "quick_sort(array, 0, len(array)-1)\n",
    "print(array)"
   ]
  },
  {
   "cell_type": "markdown",
   "id": "52ba273a",
   "metadata": {},
   "source": [
    "## 계수 정렬\n",
    "* 특정 조건이 부합할 때만 사용할 수 있지만 매우 빠른 정렬 알고리즘\n",
    "    * 모든 데이터가 양의 정수인 상황을 가정했을 때, 데이터의 개수가 N / 데이터 중 최대값이 K일 때 계수 정렬은 최악의 경우에도 수행시간 O(N+K)를 보장\n",
    "    * 조건: 데이터의 크기 범위가 제한되어 정수 형태로 표현할 수 있을 때만 사용 가능\n",
    "        * 일반적으로 가장 큰 데이터와 가장 작은 데이터의 차이가 1,000,000을 넘지 않을 때 효과적으로 사용 가능\n",
    "* 별도의 리스트를 선언하고 그 안에 정렬에 대한 정보를 담음\n",
    "* 공간 복잡도: 때에 따라 심각한 비효율성을 초래할 수 있음\n",
    "    * 데이터가 0과 999,999 두개만 존재해도 리스트 크기가 100만개인 리스트 선언해야 함"
   ]
  },
  {
   "cell_type": "code",
   "execution_count": 20,
   "id": "0852e266",
   "metadata": {},
   "outputs": [
    {
     "name": "stdout",
     "output_type": "stream",
     "text": [
      "0 0 1 1 2 2 3 4 5 5 6 7 8 9 9 "
     ]
    }
   ],
   "source": [
    "array = [7, 5, 9, 0, 3, 1, 6, 2, 9, 1, 4, 8, 0, 5, 2]\n",
    "counting = [0] * (max(array) - min(array) + 1)\n",
    "\n",
    "for i in array:\n",
    "    counting[i] += 1\n",
    "    \n",
    "index = 0\n",
    "for i, count in enumerate(counting):\n",
    "    for j in range(count):\n",
    "        print(i, end = ' ')\n",
    "    index += count"
   ]
  },
  {
   "cell_type": "markdown",
   "id": "9ae5d466",
   "metadata": {},
   "source": [
    "## 파이썬의 정렬 라이브러리\n",
    "* sorted(): 퀵 정렬과 동작 방식이 비슷한 병합 정렬을 기반으로 만들어 짐\n",
    "    * 최악의 경우에도 O(NlogN) 보장\n",
    "* 코테에서 정렬 알고리즘이 사용되는 유형\n",
    "    * **정렬 라이브러리로 풀 수 있는 문제**\n",
    "    * **정렬 알고리즘의 원리에 대해 물어보는 문제**\n",
    "    * **더 빠른 정렬이 필요한 문제**: 퀵 정렬 기반 기법으로는 풀 수 없고 계수 정렬 등의 알고리즘을 사용해야"
   ]
  },
  {
   "cell_type": "code",
   "execution_count": null,
   "id": "36d47c8b",
   "metadata": {},
   "outputs": [],
   "source": []
  }
 ],
 "metadata": {
  "kernelspec": {
   "display_name": "Python 3",
   "language": "python",
   "name": "python3"
  },
  "language_info": {
   "codemirror_mode": {
    "name": "ipython",
    "version": 3
   },
   "file_extension": ".py",
   "mimetype": "text/x-python",
   "name": "python",
   "nbconvert_exporter": "python",
   "pygments_lexer": "ipython3",
   "version": "3.8.8"
  }
 },
 "nbformat": 4,
 "nbformat_minor": 5
}
